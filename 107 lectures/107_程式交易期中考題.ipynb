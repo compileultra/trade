{
 "cells": [
  {
   "cell_type": "code",
   "execution_count": 1,
   "metadata": {},
   "outputs": [
    {
     "name": "stdout",
     "output_type": "stream",
     "text": [
      "20\n",
      "256\n"
     ]
    }
   ],
   "source": [
    "# 1\n",
    "print(2 + 3 * 6)\n",
    "\n",
    "# 2\n",
    "print( 2**8 )"
   ]
  },
  {
   "cell_type": "code",
   "execution_count": 2,
   "metadata": {},
   "outputs": [
    {
     "name": "stdout",
     "output_type": "stream",
     "text": [
      "2.05\n",
      "2\n",
      "3\n"
     ]
    }
   ],
   "source": [
    "# 3\n",
    "minutes = 123\n",
    "hours_decimal = minutes/ 60\n",
    "hours = int(hours_decimal) \n",
    "minutes_decimal = hours_decimal-  hours\n",
    "minutes_part = round(minutes_decimal * 60)\n",
    "print(hours_decimal)\n",
    "print(hours)\n",
    "print(minutes_part)"
   ]
  },
  {
   "cell_type": "code",
   "execution_count": 3,
   "metadata": {},
   "outputs": [
    {
     "name": "stdout",
     "output_type": "stream",
     "text": [
      "0 a\n",
      "0 d\n",
      "1 c\n",
      "2 a\n",
      "2 b\n"
     ]
    }
   ],
   "source": [
    "# 4\n",
    "for num in range(0, 3):\n",
    "    if(num%2 == 0):\n",
    "        print(num, \"a\")\n",
    "        if(num > 0):\n",
    "            print(num, \"b\")\n",
    "        else:\n",
    "            print(num, \"d\")\n",
    "    else:\n",
    "        print(num, \"c\")"
   ]
  },
  {
   "cell_type": "code",
   "execution_count": 4,
   "metadata": {},
   "outputs": [
    {
     "name": "stdout",
     "output_type": "stream",
     "text": [
      "4 a\n",
      "4 b\n"
     ]
    }
   ],
   "source": [
    "# 5\n",
    "for num in range(3, 5):\n",
    "    num = num +7//4\n",
    "    if(num%2 == 0):\n",
    "        print(num, \"a\")\n",
    "        if(num > 0):\n",
    "            print(num, \"b\")\n",
    "        else:\n",
    "            print(num, \"d\")\n",
    "    else:\n",
    "        break\n",
    "        print(num, \"c\")"
   ]
  },
  {
   "cell_type": "code",
   "execution_count": 5,
   "metadata": {},
   "outputs": [
    {
     "name": "stdout",
     "output_type": "stream",
     "text": [
      "****\n",
      " ***\n",
      "  **\n",
      "   *\n"
     ]
    }
   ],
   "source": [
    "# 6\n",
    "for i in range(1, 5):\n",
    "    print(\" \"*(i-1) + (5-i)*\"*\")"
   ]
  },
  {
   "cell_type": "code",
   "execution_count": 6,
   "metadata": {},
   "outputs": [
    {
     "name": "stdout",
     "output_type": "stream",
     "text": [
      "6\n"
     ]
    }
   ],
   "source": [
    "# 7\n",
    "def word_length(word1, word2):\n",
    "    word = word1 + word2\n",
    "    return(len(word))\n",
    "    print(\"Hello\")\n",
    "    \n",
    "print(word_length(\"Cat\", \"Dog\"))"
   ]
  },
  {
   "cell_type": "code",
   "execution_count": 7,
   "metadata": {},
   "outputs": [
    {
     "name": "stdout",
     "output_type": "stream",
     "text": [
      "6\n"
     ]
    }
   ],
   "source": [
    "# 8\n",
    "def add(a, b):\n",
    "    x = a + 1\n",
    "    y = b + 1\n",
    "    def mult(a, b):\n",
    "        return a*b\n",
    "    return mult(x, y)\n",
    "print(add(1, 2))"
   ]
  },
  {
   "cell_type": "code",
   "execution_count": 8,
   "metadata": {},
   "outputs": [
    {
     "data": {
      "text/plain": [
       "True"
      ]
     },
     "execution_count": 8,
     "metadata": {},
     "output_type": "execute_result"
    }
   ],
   "source": [
    "# 9\n",
    "numA = 10\n",
    "numB = 3\n",
    "((numA%2!=0)or(numB/3==1))and(numA/numB >0)"
   ]
  },
  {
   "cell_type": "code",
   "execution_count": 9,
   "metadata": {},
   "outputs": [
    {
     "name": "stdout",
     "output_type": "stream",
     "text": [
      "1\n",
      "2\n",
      "3\n",
      "4\n",
      "6\n",
      "7\n",
      "8\n",
      "9\n"
     ]
    }
   ],
   "source": [
    "# 10\n",
    "i = 1\n",
    "while(i < 10):\n",
    "    if i == 5:\n",
    "        i = i + 1\n",
    "        continue\n",
    "    print(i)\n",
    "    i = i + 1\n"
   ]
  }
 ],
 "metadata": {
  "kernelspec": {
   "display_name": "Python 3",
   "language": "python",
   "name": "python3"
  },
  "language_info": {
   "codemirror_mode": {
    "name": "ipython",
    "version": 3
   },
   "file_extension": ".py",
   "mimetype": "text/x-python",
   "name": "python",
   "nbconvert_exporter": "python",
   "pygments_lexer": "ipython3",
   "version": "3.6.8"
  }
 },
 "nbformat": 4,
 "nbformat_minor": 2
}
