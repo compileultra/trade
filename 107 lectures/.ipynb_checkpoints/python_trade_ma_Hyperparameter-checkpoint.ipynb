{
 "cells": [
  {
   "cell_type": "code",
   "execution_count": 1,
   "metadata": {},
   "outputs": [],
   "source": [
    "import openpyxl\n",
    "import pandas as pd\n",
    "import os\n",
    "import datetime\n",
    "#from IPython.display import display"
   ]
  },
  {
   "cell_type": "code",
   "execution_count": 2,
   "metadata": {},
   "outputs": [],
   "source": [
    "def print_full(x):\n",
    "    df = pd.DataFrame(x)\n",
    "    pd.set_option('display.max_rows', 2000)\n",
    "    pd.set_option('display.max_columns', 20)\n",
    "    display(df)"
   ]
  },
  {
   "cell_type": "markdown",
   "metadata": {},
   "source": [
    "### import and export excel "
   ]
  },
  {
   "cell_type": "code",
   "execution_count": 7,
   "metadata": {},
   "outputs": [
    {
     "data": {
      "text/html": [
       "<div>\n",
       "<style scoped>\n",
       "    .dataframe tbody tr th:only-of-type {\n",
       "        vertical-align: middle;\n",
       "    }\n",
       "\n",
       "    .dataframe tbody tr th {\n",
       "        vertical-align: top;\n",
       "    }\n",
       "\n",
       "    .dataframe thead th {\n",
       "        text-align: right;\n",
       "    }\n",
       "</style>\n",
       "<table border=\"1\" class=\"dataframe\">\n",
       "  <thead>\n",
       "    <tr style=\"text-align: right;\">\n",
       "      <th></th>\n",
       "      <th>0</th>\n",
       "      <th>1</th>\n",
       "    </tr>\n",
       "  </thead>\n",
       "  <tbody>\n",
       "    <tr>\n",
       "      <th>0</th>\n",
       "      <td>date</td>\n",
       "      <td>closeprice</td>\n",
       "    </tr>\n",
       "    <tr>\n",
       "      <th>1</th>\n",
       "      <td>2003-07-01</td>\n",
       "      <td>38.05</td>\n",
       "    </tr>\n",
       "    <tr>\n",
       "      <th>2</th>\n",
       "      <td>2003-07-02</td>\n",
       "      <td>38.69</td>\n",
       "    </tr>\n",
       "    <tr>\n",
       "      <th>3</th>\n",
       "      <td>2003-07-03</td>\n",
       "      <td>39</td>\n",
       "    </tr>\n",
       "    <tr>\n",
       "      <th>4</th>\n",
       "      <td>2003-07-04</td>\n",
       "      <td>39.26</td>\n",
       "    </tr>\n",
       "  </tbody>\n",
       "</table>\n",
       "</div>"
      ],
      "text/plain": [
       "            0           1\n",
       "0        date  closeprice\n",
       "1  2003-07-01       38.05\n",
       "2  2003-07-02       38.69\n",
       "3  2003-07-03          39\n",
       "4  2003-07-04       39.26"
      ]
     },
     "execution_count": 7,
     "metadata": {},
     "output_type": "execute_result"
    }
   ],
   "source": [
    "excelname= \"ma\"\n",
    "sheetname = \"10ma\"\n",
    "\n",
    "wb = openpyxl.load_workbook(str(excelname)+\".xlsx\")\n",
    "ws = wb[str(sheetname)]\n",
    "\n",
    "dataset = []\n",
    "\n",
    "i = 1\n",
    "while(ws.cell(row=i, column=1).value!=None):\n",
    "    row = []\n",
    "    row.append(ws.cell(row=i, column=1).value)\n",
    "    row.append(ws.cell(row=i, column=8).value)\n",
    "    dataset.append(row)\n",
    "    i = i + 1\n",
    "pd.DataFrame(dataset).head()"
   ]
  },
  {
   "cell_type": "code",
   "execution_count": 8,
   "metadata": {},
   "outputs": [
    {
     "data": {
      "text/plain": [
       "list"
      ]
     },
     "execution_count": 8,
     "metadata": {},
     "output_type": "execute_result"
    }
   ],
   "source": [
    "type(dataset)"
   ]
  },
  {
   "cell_type": "code",
   "execution_count": null,
   "metadata": {},
   "outputs": [],
   "source": []
  },
  {
   "cell_type": "code",
   "execution_count": null,
   "metadata": {},
   "outputs": [],
   "source": []
  },
  {
   "cell_type": "code",
   "execution_count": null,
   "metadata": {},
   "outputs": [],
   "source": []
  },
  {
   "cell_type": "code",
   "execution_count": null,
   "metadata": {},
   "outputs": [],
   "source": []
  },
  {
   "cell_type": "code",
   "execution_count": null,
   "metadata": {},
   "outputs": [],
   "source": []
  },
  {
   "cell_type": "code",
   "execution_count": null,
   "metadata": {},
   "outputs": [],
   "source": []
  },
  {
   "cell_type": "code",
   "execution_count": null,
   "metadata": {},
   "outputs": [],
   "source": []
  },
  {
   "cell_type": "code",
   "execution_count": null,
   "metadata": {},
   "outputs": [],
   "source": [
    "# trade =[[0 for x in range(9)] for y in range(len(dataset))]\n",
    "trade = []\n",
    "for i in range(0, len(dataset)):\n",
    "    row = []\n",
    "    for j in range(0, 9):\n",
    "        row.append(0)\n",
    "    trade.append(row)\n",
    "trade[0][0] = \"date\"\n",
    "trade[0][1] = \"buy\"\n",
    "trade[0][2] = \"hold\"\n",
    "trade[0][3] = \"sell\"\n",
    "trade[0][4] = \"number\"\n",
    "trade[0][5] = \"value\"\n",
    "trade[0][6] = \"period_return\"\n",
    "trade[0][7] = \"closeprice\"\n",
    "trade[0][8] = \"10ma\""
   ]
  },
  {
   "cell_type": "code",
   "execution_count": null,
   "metadata": {},
   "outputs": [],
   "source": [
    "for i in range(1, len(trade)):\n",
    "    trade[i][0] = dataset[i][0]\n",
    "    trade[i][7] = float(dataset[i][7])\n",
    "    \n",
    "for i in range(10, len(trade)):\n",
    "    temp = 0\n",
    "    for j in range(0, 10):\n",
    "        temp = temp + trade[i-j][7]\n",
    "    trade[i][8] = temp / 10"
   ]
  },
  {
   "cell_type": "code",
   "execution_count": null,
   "metadata": {},
   "outputs": [],
   "source": [
    "for i in range(10, len(trade)):\n",
    "    if(trade[i][7] > trade[i][8])and(trade[i-1][2]==0):\n",
    "        trade[i][1] = 1\n",
    "        trade[i][2] = 1\n",
    "        trade[i][3] = 0\n",
    "    elif(trade[i][7] < trade[i][8])and(trade[i-1][2]==1):\n",
    "        trade[i][1] = 0\n",
    "        trade[i][2] = 0\n",
    "        trade[i][3] = 1\n",
    "    elif(trade[i-1][2]>0):\n",
    "        trade[i][1] = 0\n",
    "        trade[i][2] = 1\n",
    "        trade[i][3] = 0"
   ]
  },
  {
   "cell_type": "code",
   "execution_count": null,
   "metadata": {},
   "outputs": [],
   "source": [
    "initial = 10000\n",
    "for i in range(10, len(trade)):\n",
    "    if(trade[i][1] == 1)and(trade[i][2]==1)and(trade[i][3] == 0):\n",
    "        trade[i][4] = initial/trade[i][7]\n",
    "        trade[i][5] = trade[i][4] * trade[i][7]\n",
    "        trade[i][6] = round((trade[i][4] * trade[i][7] - initial)/initial, 4)\n",
    "    elif(trade[i][1] == 0)and(trade[i][2]==0)and(trade[i][3] == 1):\n",
    "        trade[i][4] = 0\n",
    "        trade[i][5] = trade[i-1][4] * trade[i][7]\n",
    "        trade[i][6] = round((trade[i-1][4] * trade[i][7] - initial)/initial, 4)\n",
    "    elif(trade[i][1] == 0)and(trade[i][2]==1)and(trade[i][3] == 0):\n",
    "        trade[i][4] = trade[i-1][4]\n",
    "        trade[i][5] = trade[i][4] * trade[i][7]\n",
    "        trade[i][6] = round((trade[i][4] * trade[i][7] - initial)/initial, 4)"
   ]
  },
  {
   "cell_type": "code",
   "execution_count": null,
   "metadata": {},
   "outputs": [],
   "source": [
    "pd.DataFrame(trade).head()"
   ]
  },
  {
   "cell_type": "code",
   "execution_count": null,
   "metadata": {},
   "outputs": [],
   "source": [
    "for i in range(0, len(trade)):\n",
    "    for j in range(0, len(trade[1])):\n",
    "        ws.cell(row=i+1, column=j+1).value= trade[i][j]\n",
    "wb.save('ma.xlsx')"
   ]
  },
  {
   "cell_type": "markdown",
   "metadata": {},
   "source": [
    "### add annual return"
   ]
  },
  {
   "cell_type": "code",
   "execution_count": null,
   "metadata": {},
   "outputs": [],
   "source": [
    "for i in range(0, len(trade)):\n",
    "    trade[i].append(0)\n",
    "    trade[i].append(0)\n",
    "pd.DataFrame(trade).head()"
   ]
  },
  {
   "cell_type": "code",
   "execution_count": null,
   "metadata": {},
   "outputs": [],
   "source": [
    "trade[0][9]  = \"holding_days\"\n",
    "trade[0][10] = \"Annualized Return\"\n",
    "pd.DataFrame(trade).head()"
   ]
  },
  {
   "cell_type": "code",
   "execution_count": null,
   "metadata": {},
   "outputs": [],
   "source": [
    "start = 0\n",
    "end = 0\n",
    "for i in range(1, len(trade)):\n",
    "    if(trade[i][1]==1):\n",
    "        trade[i][9] = 1\n",
    "        start = datetime.datetime.strptime(trade[i][0], \"%Y-%m-%d\").date()\n",
    "    elif((trade[i][2] > 0) or (trade[i][3] == 1))and(trade[i][1] == 0):\n",
    "        end = datetime.datetime.strptime(trade[i][0], \"%Y-%m-%d\").date()\n",
    "        delta = end - start\n",
    "        trade[i][9] = delta.days+1\n",
    "pd.DataFrame(trade)"
   ]
  },
  {
   "cell_type": "code",
   "execution_count": null,
   "metadata": {},
   "outputs": [],
   "source": [
    "for i in range(1, len(trade)):\n",
    "    if(trade[i][1]==1)or(trade[i][2]==1)or(trade[i][3]==1):\n",
    "        trade[i][10] = (1+trade[i][6])**(365/trade[i][9])-1\n",
    "pd.DataFrame(trade)"
   ]
  },
  {
   "cell_type": "code",
   "execution_count": null,
   "metadata": {},
   "outputs": [],
   "source": [
    "# annual return computation\n",
    "# https://www.investopedia.com/terms/a/annualized-total-return.asp\n",
    "annual_return = 1\n",
    "trading_counts = 0\n",
    "for i in range(1, len(trade)):\n",
    "    if(trade[i][3]==1):\n",
    "        annual_return = annual_return * (1+trade[i][6])\n",
    "        trading_counts = trading_counts + 1\n",
    "print(annual_return)\n",
    "print(trading_counts)\n",
    "final_return = annual_return**(1/trading_counts)-1\n",
    "print(final_return)"
   ]
  },
  {
   "cell_type": "code",
   "execution_count": null,
   "metadata": {},
   "outputs": [],
   "source": []
  },
  {
   "cell_type": "code",
   "execution_count": null,
   "metadata": {},
   "outputs": [],
   "source": []
  },
  {
   "cell_type": "code",
   "execution_count": null,
   "metadata": {},
   "outputs": [],
   "source": []
  }
 ],
 "metadata": {
  "kernelspec": {
   "display_name": "Python 3",
   "language": "python",
   "name": "python3"
  },
  "language_info": {
   "codemirror_mode": {
    "name": "ipython",
    "version": 3
   },
   "file_extension": ".py",
   "mimetype": "text/x-python",
   "name": "python",
   "nbconvert_exporter": "python",
   "pygments_lexer": "ipython3",
   "version": "3.6.8"
  }
 },
 "nbformat": 4,
 "nbformat_minor": 2
}
