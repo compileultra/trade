{
 "cells": [
  {
   "cell_type": "code",
   "execution_count": 5,
   "metadata": {},
   "outputs": [],
   "source": [
    "import pandas as pd"
   ]
  },
  {
   "cell_type": "code",
   "execution_count": 9,
   "metadata": {},
   "outputs": [],
   "source": [
    "train_label = pd.read_csv(\"strategy_results_train_v1.csv\")"
   ]
  },
  {
   "cell_type": "code",
   "execution_count": 15,
   "metadata": {},
   "outputs": [
    {
     "data": {
      "text/plain": [
       "['SHSE.600085', '201501']"
      ]
     },
     "execution_count": 15,
     "metadata": {},
     "output_type": "execute_result"
    }
   ],
   "source": [
    "train_label.iloc[0, 0].split(\"_\")"
   ]
  },
  {
   "cell_type": "code",
   "execution_count": 19,
   "metadata": {},
   "outputs": [],
   "source": [
    "company     = train_label.iloc[0, 0].split(\"_\")[0]\n",
    "select_date = train_label.iloc[0, 0].split(\"_\")[1]"
   ]
  },
  {
   "cell_type": "code",
   "execution_count": 18,
   "metadata": {},
   "outputs": [],
   "source": [
    "daily = pd.read_excel(\"daily_trading_info_train.xlsx\", sheet_name=None)"
   ]
  },
  {
   "cell_type": "code",
   "execution_count": 21,
   "metadata": {},
   "outputs": [
    {
     "data": {
      "text/html": [
       "<div>\n",
       "<style scoped>\n",
       "    .dataframe tbody tr th:only-of-type {\n",
       "        vertical-align: middle;\n",
       "    }\n",
       "\n",
       "    .dataframe tbody tr th {\n",
       "        vertical-align: top;\n",
       "    }\n",
       "\n",
       "    .dataframe thead th {\n",
       "        text-align: right;\n",
       "    }\n",
       "</style>\n",
       "<table border=\"1\" class=\"dataframe\">\n",
       "  <thead>\n",
       "    <tr style=\"text-align: right;\">\n",
       "      <th></th>\n",
       "      <th>Unnamed: 0</th>\n",
       "      <th>date</th>\n",
       "      <th>open</th>\n",
       "      <th>high</th>\n",
       "      <th>low</th>\n",
       "      <th>close</th>\n",
       "      <th>volume</th>\n",
       "    </tr>\n",
       "  </thead>\n",
       "  <tbody>\n",
       "    <tr>\n",
       "      <th>0</th>\n",
       "      <td>0</td>\n",
       "      <td>2014-01-02</td>\n",
       "      <td>21.309999</td>\n",
       "      <td>21.700001</td>\n",
       "      <td>21.230000</td>\n",
       "      <td>21.459999</td>\n",
       "      <td>5096443</td>\n",
       "    </tr>\n",
       "    <tr>\n",
       "      <th>1</th>\n",
       "      <td>1</td>\n",
       "      <td>2014-01-03</td>\n",
       "      <td>21.400000</td>\n",
       "      <td>21.450001</td>\n",
       "      <td>20.370001</td>\n",
       "      <td>20.790001</td>\n",
       "      <td>9945683</td>\n",
       "    </tr>\n",
       "    <tr>\n",
       "      <th>2</th>\n",
       "      <td>2</td>\n",
       "      <td>2014-01-06</td>\n",
       "      <td>20.680000</td>\n",
       "      <td>20.680000</td>\n",
       "      <td>20.219999</td>\n",
       "      <td>20.240000</td>\n",
       "      <td>5171376</td>\n",
       "    </tr>\n",
       "    <tr>\n",
       "      <th>3</th>\n",
       "      <td>3</td>\n",
       "      <td>2014-01-07</td>\n",
       "      <td>20.100000</td>\n",
       "      <td>20.250000</td>\n",
       "      <td>19.860001</td>\n",
       "      <td>20.000000</td>\n",
       "      <td>5364241</td>\n",
       "    </tr>\n",
       "    <tr>\n",
       "      <th>4</th>\n",
       "      <td>4</td>\n",
       "      <td>2014-01-08</td>\n",
       "      <td>20.000000</td>\n",
       "      <td>20.389999</td>\n",
       "      <td>20.000000</td>\n",
       "      <td>20.230000</td>\n",
       "      <td>5186841</td>\n",
       "    </tr>\n",
       "  </tbody>\n",
       "</table>\n",
       "</div>"
      ],
      "text/plain": [
       "   Unnamed: 0       date       open       high        low      close   volume\n",
       "0           0 2014-01-02  21.309999  21.700001  21.230000  21.459999  5096443\n",
       "1           1 2014-01-03  21.400000  21.450001  20.370001  20.790001  9945683\n",
       "2           2 2014-01-06  20.680000  20.680000  20.219999  20.240000  5171376\n",
       "3           3 2014-01-07  20.100000  20.250000  19.860001  20.000000  5364241\n",
       "4           4 2014-01-08  20.000000  20.389999  20.000000  20.230000  5186841"
      ]
     },
     "execution_count": 21,
     "metadata": {},
     "output_type": "execute_result"
    }
   ],
   "source": [
    "daily[company].head()"
   ]
  },
  {
   "cell_type": "code",
   "execution_count": 22,
   "metadata": {},
   "outputs": [
    {
     "data": {
      "text/plain": [
       "Timestamp('2014-01-02 00:00:00')"
      ]
     },
     "execution_count": 22,
     "metadata": {},
     "output_type": "execute_result"
    }
   ],
   "source": [
    "daily[company].iloc[0, 1]"
   ]
  },
  {
   "cell_type": "code",
   "execution_count": 24,
   "metadata": {},
   "outputs": [
    {
     "data": {
      "text/plain": [
       "2"
      ]
     },
     "execution_count": 24,
     "metadata": {},
     "output_type": "execute_result"
    }
   ],
   "source": [
    "daily[company].iloc[0, 1].day"
   ]
  },
  {
   "cell_type": "code",
   "execution_count": 28,
   "metadata": {},
   "outputs": [
    {
     "data": {
      "text/plain": [
       "1"
      ]
     },
     "execution_count": 28,
     "metadata": {},
     "output_type": "execute_result"
    }
   ],
   "source": [
    "daily[company].iloc[0, 1].month"
   ]
  },
  {
   "cell_type": "code",
   "execution_count": 26,
   "metadata": {},
   "outputs": [
    {
     "data": {
      "text/plain": [
       "2014"
      ]
     },
     "execution_count": 26,
     "metadata": {},
     "output_type": "execute_result"
    }
   ],
   "source": [
    "daily[company].iloc[0, 1].year"
   ]
  },
  {
   "cell_type": "code",
   "execution_count": null,
   "metadata": {},
   "outputs": [],
   "source": []
  },
  {
   "cell_type": "code",
   "execution_count": 30,
   "metadata": {},
   "outputs": [
    {
     "data": {
      "text/plain": [
       "2015"
      ]
     },
     "execution_count": 30,
     "metadata": {},
     "output_type": "execute_result"
    }
   ],
   "source": [
    "int(select_date[:4])"
   ]
  },
  {
   "cell_type": "code",
   "execution_count": 31,
   "metadata": {},
   "outputs": [
    {
     "data": {
      "text/plain": [
       "1"
      ]
     },
     "execution_count": 31,
     "metadata": {},
     "output_type": "execute_result"
    }
   ],
   "source": [
    "int(select_date[4:])"
   ]
  },
  {
   "cell_type": "code",
   "execution_count": 35,
   "metadata": {},
   "outputs": [
    {
     "data": {
      "text/plain": [
       "(1220, 7)"
      ]
     },
     "execution_count": 35,
     "metadata": {},
     "output_type": "execute_result"
    }
   ],
   "source": [
    "daily[company].shape"
   ]
  },
  {
   "cell_type": "code",
   "execution_count": 38,
   "metadata": {},
   "outputs": [],
   "source": [
    "result = []\n",
    "result.append(daily[company].iloc[0])"
   ]
  },
  {
   "cell_type": "code",
   "execution_count": 41,
   "metadata": {},
   "outputs": [
    {
     "data": {
      "text/plain": [
       "21.45999908447266"
      ]
     },
     "execution_count": 41,
     "metadata": {},
     "output_type": "execute_result"
    }
   ],
   "source": [
    "result[0].close"
   ]
  },
  {
   "cell_type": "code",
   "execution_count": 44,
   "metadata": {},
   "outputs": [],
   "source": [
    "result = []\n",
    "\n",
    "for i in range(0, daily[company].shape[0]):\n",
    "    if(daily[company].iloc[i, 1].year==2014)and\\\n",
    "    (daily[company].iloc[i, 1].month==12):\n",
    "        result.append(daily[company].iloc[i])"
   ]
  },
  {
   "cell_type": "code",
   "execution_count": 46,
   "metadata": {},
   "outputs": [
    {
     "data": {
      "text/html": [
       "<div>\n",
       "<style scoped>\n",
       "    .dataframe tbody tr th:only-of-type {\n",
       "        vertical-align: middle;\n",
       "    }\n",
       "\n",
       "    .dataframe tbody tr th {\n",
       "        vertical-align: top;\n",
       "    }\n",
       "\n",
       "    .dataframe thead th {\n",
       "        text-align: right;\n",
       "    }\n",
       "</style>\n",
       "<table border=\"1\" class=\"dataframe\">\n",
       "  <thead>\n",
       "    <tr style=\"text-align: right;\">\n",
       "      <th></th>\n",
       "      <th>Unnamed: 0</th>\n",
       "      <th>date</th>\n",
       "      <th>open</th>\n",
       "      <th>high</th>\n",
       "      <th>low</th>\n",
       "      <th>close</th>\n",
       "      <th>volume</th>\n",
       "    </tr>\n",
       "  </thead>\n",
       "  <tbody>\n",
       "    <tr>\n",
       "      <th>222</th>\n",
       "      <td>222</td>\n",
       "      <td>2014-12-01</td>\n",
       "      <td>19.969999</td>\n",
       "      <td>20.850000</td>\n",
       "      <td>19.760000</td>\n",
       "      <td>20.540001</td>\n",
       "      <td>25435934</td>\n",
       "    </tr>\n",
       "    <tr>\n",
       "      <th>223</th>\n",
       "      <td>223</td>\n",
       "      <td>2014-12-02</td>\n",
       "      <td>20.540001</td>\n",
       "      <td>20.780001</td>\n",
       "      <td>20.360001</td>\n",
       "      <td>20.559999</td>\n",
       "      <td>14312930</td>\n",
       "    </tr>\n",
       "    <tr>\n",
       "      <th>224</th>\n",
       "      <td>224</td>\n",
       "      <td>2014-12-03</td>\n",
       "      <td>20.520000</td>\n",
       "      <td>21.200001</td>\n",
       "      <td>20.430000</td>\n",
       "      <td>20.830000</td>\n",
       "      <td>18802229</td>\n",
       "    </tr>\n",
       "    <tr>\n",
       "      <th>225</th>\n",
       "      <td>225</td>\n",
       "      <td>2014-12-04</td>\n",
       "      <td>20.900000</td>\n",
       "      <td>22.360001</td>\n",
       "      <td>20.900000</td>\n",
       "      <td>21.840000</td>\n",
       "      <td>25007684</td>\n",
       "    </tr>\n",
       "    <tr>\n",
       "      <th>226</th>\n",
       "      <td>226</td>\n",
       "      <td>2014-12-05</td>\n",
       "      <td>21.879999</td>\n",
       "      <td>22.250000</td>\n",
       "      <td>20.700001</td>\n",
       "      <td>22.230000</td>\n",
       "      <td>27991813</td>\n",
       "    </tr>\n",
       "    <tr>\n",
       "      <th>227</th>\n",
       "      <td>227</td>\n",
       "      <td>2014-12-08</td>\n",
       "      <td>22.070000</td>\n",
       "      <td>22.500000</td>\n",
       "      <td>21.500000</td>\n",
       "      <td>22.180000</td>\n",
       "      <td>29103732</td>\n",
       "    </tr>\n",
       "    <tr>\n",
       "      <th>228</th>\n",
       "      <td>228</td>\n",
       "      <td>2014-12-09</td>\n",
       "      <td>22.500000</td>\n",
       "      <td>22.500000</td>\n",
       "      <td>21.250000</td>\n",
       "      <td>21.680000</td>\n",
       "      <td>35371851</td>\n",
       "    </tr>\n",
       "    <tr>\n",
       "      <th>229</th>\n",
       "      <td>229</td>\n",
       "      <td>2014-12-10</td>\n",
       "      <td>21.610001</td>\n",
       "      <td>22.950001</td>\n",
       "      <td>21.610001</td>\n",
       "      <td>22.680000</td>\n",
       "      <td>24974362</td>\n",
       "    </tr>\n",
       "    <tr>\n",
       "      <th>230</th>\n",
       "      <td>230</td>\n",
       "      <td>2014-12-11</td>\n",
       "      <td>22.700001</td>\n",
       "      <td>22.700001</td>\n",
       "      <td>21.799999</td>\n",
       "      <td>22.120001</td>\n",
       "      <td>16503557</td>\n",
       "    </tr>\n",
       "    <tr>\n",
       "      <th>231</th>\n",
       "      <td>231</td>\n",
       "      <td>2014-12-12</td>\n",
       "      <td>22.110001</td>\n",
       "      <td>22.270000</td>\n",
       "      <td>21.830000</td>\n",
       "      <td>22.110001</td>\n",
       "      <td>14895156</td>\n",
       "    </tr>\n",
       "    <tr>\n",
       "      <th>232</th>\n",
       "      <td>232</td>\n",
       "      <td>2014-12-15</td>\n",
       "      <td>22.000000</td>\n",
       "      <td>22.240000</td>\n",
       "      <td>21.600000</td>\n",
       "      <td>22.120001</td>\n",
       "      <td>14812740</td>\n",
       "    </tr>\n",
       "    <tr>\n",
       "      <th>233</th>\n",
       "      <td>233</td>\n",
       "      <td>2014-12-16</td>\n",
       "      <td>22.000000</td>\n",
       "      <td>22.030001</td>\n",
       "      <td>21.610001</td>\n",
       "      <td>21.820000</td>\n",
       "      <td>12440352</td>\n",
       "    </tr>\n",
       "    <tr>\n",
       "      <th>234</th>\n",
       "      <td>234</td>\n",
       "      <td>2014-12-17</td>\n",
       "      <td>21.790001</td>\n",
       "      <td>21.900000</td>\n",
       "      <td>21.290001</td>\n",
       "      <td>21.629999</td>\n",
       "      <td>14521991</td>\n",
       "    </tr>\n",
       "    <tr>\n",
       "      <th>235</th>\n",
       "      <td>235</td>\n",
       "      <td>2014-12-18</td>\n",
       "      <td>21.559999</td>\n",
       "      <td>22.059999</td>\n",
       "      <td>21.549999</td>\n",
       "      <td>21.780001</td>\n",
       "      <td>10874573</td>\n",
       "    </tr>\n",
       "    <tr>\n",
       "      <th>236</th>\n",
       "      <td>236</td>\n",
       "      <td>2014-12-19</td>\n",
       "      <td>21.740000</td>\n",
       "      <td>21.860001</td>\n",
       "      <td>21.450001</td>\n",
       "      <td>21.760000</td>\n",
       "      <td>11122892</td>\n",
       "    </tr>\n",
       "    <tr>\n",
       "      <th>237</th>\n",
       "      <td>237</td>\n",
       "      <td>2014-12-22</td>\n",
       "      <td>21.760000</td>\n",
       "      <td>21.760000</td>\n",
       "      <td>20.600000</td>\n",
       "      <td>20.990000</td>\n",
       "      <td>19501687</td>\n",
       "    </tr>\n",
       "    <tr>\n",
       "      <th>238</th>\n",
       "      <td>238</td>\n",
       "      <td>2014-12-23</td>\n",
       "      <td>21.000000</td>\n",
       "      <td>21.340000</td>\n",
       "      <td>20.500000</td>\n",
       "      <td>21.070000</td>\n",
       "      <td>11382727</td>\n",
       "    </tr>\n",
       "    <tr>\n",
       "      <th>239</th>\n",
       "      <td>239</td>\n",
       "      <td>2014-12-24</td>\n",
       "      <td>20.879999</td>\n",
       "      <td>21.400000</td>\n",
       "      <td>20.760000</td>\n",
       "      <td>21.150000</td>\n",
       "      <td>8894690</td>\n",
       "    </tr>\n",
       "    <tr>\n",
       "      <th>240</th>\n",
       "      <td>240</td>\n",
       "      <td>2014-12-25</td>\n",
       "      <td>21.100000</td>\n",
       "      <td>21.540001</td>\n",
       "      <td>21.000000</td>\n",
       "      <td>21.299999</td>\n",
       "      <td>9592848</td>\n",
       "    </tr>\n",
       "    <tr>\n",
       "      <th>241</th>\n",
       "      <td>241</td>\n",
       "      <td>2014-12-26</td>\n",
       "      <td>21.280001</td>\n",
       "      <td>21.379999</td>\n",
       "      <td>20.500000</td>\n",
       "      <td>20.910000</td>\n",
       "      <td>15902362</td>\n",
       "    </tr>\n",
       "    <tr>\n",
       "      <th>242</th>\n",
       "      <td>242</td>\n",
       "      <td>2014-12-29</td>\n",
       "      <td>20.900000</td>\n",
       "      <td>21.500000</td>\n",
       "      <td>20.610001</td>\n",
       "      <td>21.049999</td>\n",
       "      <td>13618818</td>\n",
       "    </tr>\n",
       "    <tr>\n",
       "      <th>243</th>\n",
       "      <td>243</td>\n",
       "      <td>2014-12-30</td>\n",
       "      <td>20.900000</td>\n",
       "      <td>22.090000</td>\n",
       "      <td>20.799999</td>\n",
       "      <td>22.049999</td>\n",
       "      <td>25457468</td>\n",
       "    </tr>\n",
       "    <tr>\n",
       "      <th>244</th>\n",
       "      <td>244</td>\n",
       "      <td>2014-12-31</td>\n",
       "      <td>22.010000</td>\n",
       "      <td>22.650000</td>\n",
       "      <td>21.760000</td>\n",
       "      <td>22.430000</td>\n",
       "      <td>20177818</td>\n",
       "    </tr>\n",
       "  </tbody>\n",
       "</table>\n",
       "</div>"
      ],
      "text/plain": [
       "     Unnamed: 0       date       open       high        low      close  \\\n",
       "222         222 2014-12-01  19.969999  20.850000  19.760000  20.540001   \n",
       "223         223 2014-12-02  20.540001  20.780001  20.360001  20.559999   \n",
       "224         224 2014-12-03  20.520000  21.200001  20.430000  20.830000   \n",
       "225         225 2014-12-04  20.900000  22.360001  20.900000  21.840000   \n",
       "226         226 2014-12-05  21.879999  22.250000  20.700001  22.230000   \n",
       "227         227 2014-12-08  22.070000  22.500000  21.500000  22.180000   \n",
       "228         228 2014-12-09  22.500000  22.500000  21.250000  21.680000   \n",
       "229         229 2014-12-10  21.610001  22.950001  21.610001  22.680000   \n",
       "230         230 2014-12-11  22.700001  22.700001  21.799999  22.120001   \n",
       "231         231 2014-12-12  22.110001  22.270000  21.830000  22.110001   \n",
       "232         232 2014-12-15  22.000000  22.240000  21.600000  22.120001   \n",
       "233         233 2014-12-16  22.000000  22.030001  21.610001  21.820000   \n",
       "234         234 2014-12-17  21.790001  21.900000  21.290001  21.629999   \n",
       "235         235 2014-12-18  21.559999  22.059999  21.549999  21.780001   \n",
       "236         236 2014-12-19  21.740000  21.860001  21.450001  21.760000   \n",
       "237         237 2014-12-22  21.760000  21.760000  20.600000  20.990000   \n",
       "238         238 2014-12-23  21.000000  21.340000  20.500000  21.070000   \n",
       "239         239 2014-12-24  20.879999  21.400000  20.760000  21.150000   \n",
       "240         240 2014-12-25  21.100000  21.540001  21.000000  21.299999   \n",
       "241         241 2014-12-26  21.280001  21.379999  20.500000  20.910000   \n",
       "242         242 2014-12-29  20.900000  21.500000  20.610001  21.049999   \n",
       "243         243 2014-12-30  20.900000  22.090000  20.799999  22.049999   \n",
       "244         244 2014-12-31  22.010000  22.650000  21.760000  22.430000   \n",
       "\n",
       "       volume  \n",
       "222  25435934  \n",
       "223  14312930  \n",
       "224  18802229  \n",
       "225  25007684  \n",
       "226  27991813  \n",
       "227  29103732  \n",
       "228  35371851  \n",
       "229  24974362  \n",
       "230  16503557  \n",
       "231  14895156  \n",
       "232  14812740  \n",
       "233  12440352  \n",
       "234  14521991  \n",
       "235  10874573  \n",
       "236  11122892  \n",
       "237  19501687  \n",
       "238  11382727  \n",
       "239   8894690  \n",
       "240   9592848  \n",
       "241  15902362  \n",
       "242  13618818  \n",
       "243  25457468  \n",
       "244  20177818  "
      ]
     },
     "execution_count": 46,
     "metadata": {},
     "output_type": "execute_result"
    }
   ],
   "source": [
    "pd.DataFrame(result)"
   ]
  },
  {
   "cell_type": "code",
   "execution_count": null,
   "metadata": {},
   "outputs": [],
   "source": []
  },
  {
   "cell_type": "code",
   "execution_count": null,
   "metadata": {},
   "outputs": [],
   "source": []
  }
 ],
 "metadata": {
  "kernelspec": {
   "display_name": "Python 3",
   "language": "python",
   "name": "python3"
  },
  "language_info": {
   "codemirror_mode": {
    "name": "ipython",
    "version": 3
   },
   "file_extension": ".py",
   "mimetype": "text/x-python",
   "name": "python",
   "nbconvert_exporter": "python",
   "pygments_lexer": "ipython3",
   "version": "3.7.6"
  }
 },
 "nbformat": 4,
 "nbformat_minor": 4
}
