{
 "cells": [
  {
   "cell_type": "code",
   "execution_count": 1,
   "metadata": {},
   "outputs": [],
   "source": [
    "import pandas as pd\n",
    "import datetime\n",
    "\n",
    "from sklearn.model_selection import train_test_split\n",
    "\n",
    "from sklearn.linear_model import LogisticRegression\n",
    "from sklearn import svm\n",
    "from sklearn.ensemble import RandomForestClassifier\n",
    "\n",
    "from collections import Counter\n",
    "\n",
    "from sklearn.metrics import accuracy_score\n",
    "from sklearn.metrics import recall_score\n",
    "from sklearn.metrics import precision_score\n",
    "from sklearn.metrics import f1_score\n",
    "from sklearn import metrics\n",
    "import warnings\n",
    "warnings.filterwarnings('ignore')"
   ]
  },
  {
   "cell_type": "markdown",
   "metadata": {},
   "source": [
    "### Consider the first attribute"
   ]
  },
  {
   "cell_type": "code",
   "execution_count": 2,
   "metadata": {},
   "outputs": [],
   "source": [
    "input_price = pd.read_excel(\"daily_trading_info_2014-2018.xlsx\", sheet_name = None)"
   ]
  },
  {
   "cell_type": "code",
   "execution_count": 3,
   "metadata": {},
   "outputs": [],
   "source": [
    "stock_index = []\n",
    "stock_index = list(input_price.keys())[0:]"
   ]
  },
  {
   "cell_type": "code",
   "execution_count": 4,
   "metadata": {},
   "outputs": [],
   "source": [
    "results = pd.read_excel(\"strategy_results_train_copy.xlsx\", sheet_name = \"strategy_results_train\")"
   ]
  },
  {
   "cell_type": "code",
   "execution_count": 5,
   "metadata": {},
   "outputs": [],
   "source": [
    "import copy"
   ]
  },
  {
   "cell_type": "code",
   "execution_count": 6,
   "metadata": {},
   "outputs": [],
   "source": [
    "dataset = copy.deepcopy(results)"
   ]
  },
  {
   "cell_type": "code",
   "execution_count": 7,
   "metadata": {},
   "outputs": [
    {
     "data": {
      "text/plain": [
       "2000"
      ]
     },
     "execution_count": 7,
     "metadata": {},
     "output_type": "execute_result"
    }
   ],
   "source": [
    "len(dataset)"
   ]
  },
  {
   "cell_type": "code",
   "execution_count": 8,
   "metadata": {},
   "outputs": [],
   "source": [
    "from talib import abstract"
   ]
  },
  {
   "cell_type": "code",
   "execution_count": 9,
   "metadata": {},
   "outputs": [],
   "source": [
    "def ma(input_price, trade_company, trade_date_datetime):\n",
    "    df = input_price[trade_company]\n",
    "    lower_index = 0\n",
    "    for index in range(0, df.shape[0]):\n",
    "        if(df[\"date\"][index].year == trade_date_datetime.year)\\\n",
    "        and(df[\"date\"][index].month <= trade_date_datetime.month):\n",
    "            lower_index = index\n",
    "\n",
    "    inputs = {\n",
    "        'open': df[\"open\"].iloc[:lower_index],\n",
    "        'high': df[\"high\"].iloc[:lower_index],\n",
    "        'low':  df[\"low\"].iloc[:lower_index],\n",
    "        'close': df[\"close\"].iloc[:lower_index],\n",
    "        'volume': df[\"volume\"].iloc[:lower_index]\n",
    "    }\n",
    "    # uses close prices (default)\n",
    "    output = abstract.SMA(inputs, timeperiod=5)\n",
    "    return output[-1]"
   ]
  },
  {
   "cell_type": "code",
   "execution_count": 10,
   "metadata": {},
   "outputs": [
    {
     "name": "stdout",
     "output_type": "stream",
     "text": [
      "0 2020-05-25 15:35:40.666001\n",
      "1000 2020-05-25 15:35:55.213024\n"
     ]
    }
   ],
   "source": [
    "temp = []\n",
    "for i in range(0, dataset.shape[0]):\n",
    "    if(i%1000==0):\n",
    "        print(i, datetime.datetime.now())\n",
    "    trade_company = dataset.iloc[i][0].split(\"_\")[0]\n",
    "    trade_date    = dataset.iloc[i][0].split(\"_\")[1]\n",
    "    trade_date_datetime = datetime.date(int(trade_date[:4]), int(trade_date[4:]), 1) - datetime.timedelta(days=1)\n",
    "    temp.append(ma(input_price, trade_company, trade_date_datetime))\n",
    "#     print(i, trade_company, trade_date, trade_date_datetime)"
   ]
  },
  {
   "cell_type": "code",
   "execution_count": 11,
   "metadata": {},
   "outputs": [
    {
     "data": {
      "text/plain": [
       "2000"
      ]
     },
     "execution_count": 11,
     "metadata": {},
     "output_type": "execute_result"
    }
   ],
   "source": [
    "len(temp)"
   ]
  },
  {
   "cell_type": "code",
   "execution_count": 12,
   "metadata": {},
   "outputs": [],
   "source": [
    "pd.DataFrame(temp, columns=[\"ma\"]).head()\n",
    "temp = pd.DataFrame(temp, columns=[\"ma\"])"
   ]
  },
  {
   "cell_type": "code",
   "execution_count": 13,
   "metadata": {},
   "outputs": [
    {
     "data": {
      "text/html": [
       "<div>\n",
       "<style scoped>\n",
       "    .dataframe tbody tr th:only-of-type {\n",
       "        vertical-align: middle;\n",
       "    }\n",
       "\n",
       "    .dataframe tbody tr th {\n",
       "        vertical-align: top;\n",
       "    }\n",
       "\n",
       "    .dataframe thead th {\n",
       "        text-align: right;\n",
       "    }\n",
       "</style>\n",
       "<table border=\"1\" class=\"dataframe\">\n",
       "  <thead>\n",
       "    <tr style=\"text-align: right;\">\n",
       "      <th></th>\n",
       "      <th>ma</th>\n",
       "    </tr>\n",
       "  </thead>\n",
       "  <tbody>\n",
       "    <tr>\n",
       "      <th>0</th>\n",
       "      <td>21.291999</td>\n",
       "    </tr>\n",
       "    <tr>\n",
       "      <th>1</th>\n",
       "      <td>23.492000</td>\n",
       "    </tr>\n",
       "    <tr>\n",
       "      <th>2</th>\n",
       "      <td>22.320000</td>\n",
       "    </tr>\n",
       "    <tr>\n",
       "      <th>3</th>\n",
       "      <td>26.378000</td>\n",
       "    </tr>\n",
       "    <tr>\n",
       "      <th>4</th>\n",
       "      <td>32.888000</td>\n",
       "    </tr>\n",
       "  </tbody>\n",
       "</table>\n",
       "</div>"
      ],
      "text/plain": [
       "          ma\n",
       "0  21.291999\n",
       "1  23.492000\n",
       "2  22.320000\n",
       "3  26.378000\n",
       "4  32.888000"
      ]
     },
     "execution_count": 13,
     "metadata": {},
     "output_type": "execute_result"
    }
   ],
   "source": [
    "temp.head()"
   ]
  },
  {
   "cell_type": "code",
   "execution_count": 14,
   "metadata": {
    "scrolled": true
   },
   "outputs": [
    {
     "data": {
      "text/plain": [
       "(2000, 2)"
      ]
     },
     "execution_count": 14,
     "metadata": {},
     "output_type": "execute_result"
    }
   ],
   "source": [
    "dataset.shape"
   ]
  },
  {
   "cell_type": "code",
   "execution_count": 15,
   "metadata": {},
   "outputs": [
    {
     "data": {
      "text/html": [
       "<div>\n",
       "<style scoped>\n",
       "    .dataframe tbody tr th:only-of-type {\n",
       "        vertical-align: middle;\n",
       "    }\n",
       "\n",
       "    .dataframe tbody tr th {\n",
       "        vertical-align: top;\n",
       "    }\n",
       "\n",
       "    .dataframe thead th {\n",
       "        text-align: right;\n",
       "    }\n",
       "</style>\n",
       "<table border=\"1\" class=\"dataframe\">\n",
       "  <thead>\n",
       "    <tr style=\"text-align: right;\">\n",
       "      <th></th>\n",
       "      <th>id</th>\n",
       "      <th>label</th>\n",
       "    </tr>\n",
       "  </thead>\n",
       "  <tbody>\n",
       "    <tr>\n",
       "      <th>0</th>\n",
       "      <td>SHSE.600085_201501</td>\n",
       "      <td>0</td>\n",
       "    </tr>\n",
       "    <tr>\n",
       "      <th>1</th>\n",
       "      <td>SHSE.600085_201502</td>\n",
       "      <td>1</td>\n",
       "    </tr>\n",
       "    <tr>\n",
       "      <th>2</th>\n",
       "      <td>SHSE.600085_201503</td>\n",
       "      <td>1</td>\n",
       "    </tr>\n",
       "    <tr>\n",
       "      <th>3</th>\n",
       "      <td>SHSE.600085_201504</td>\n",
       "      <td>1</td>\n",
       "    </tr>\n",
       "    <tr>\n",
       "      <th>4</th>\n",
       "      <td>SHSE.600085_201505</td>\n",
       "      <td>1</td>\n",
       "    </tr>\n",
       "  </tbody>\n",
       "</table>\n",
       "</div>"
      ],
      "text/plain": [
       "                   id  label\n",
       "0  SHSE.600085_201501      0\n",
       "1  SHSE.600085_201502      1\n",
       "2  SHSE.600085_201503      1\n",
       "3  SHSE.600085_201504      1\n",
       "4  SHSE.600085_201505      1"
      ]
     },
     "execution_count": 15,
     "metadata": {},
     "output_type": "execute_result"
    }
   ],
   "source": [
    "dataset.head()"
   ]
  },
  {
   "cell_type": "code",
   "execution_count": 16,
   "metadata": {},
   "outputs": [
    {
     "data": {
      "text/html": [
       "<div>\n",
       "<style scoped>\n",
       "    .dataframe tbody tr th:only-of-type {\n",
       "        vertical-align: middle;\n",
       "    }\n",
       "\n",
       "    .dataframe tbody tr th {\n",
       "        vertical-align: top;\n",
       "    }\n",
       "\n",
       "    .dataframe thead th {\n",
       "        text-align: right;\n",
       "    }\n",
       "</style>\n",
       "<table border=\"1\" class=\"dataframe\">\n",
       "  <thead>\n",
       "    <tr style=\"text-align: right;\">\n",
       "      <th></th>\n",
       "      <th>id</th>\n",
       "      <th>label</th>\n",
       "      <th>ma</th>\n",
       "    </tr>\n",
       "  </thead>\n",
       "  <tbody>\n",
       "    <tr>\n",
       "      <th>0</th>\n",
       "      <td>SHSE.600085_201501</td>\n",
       "      <td>0</td>\n",
       "      <td>21.291999</td>\n",
       "    </tr>\n",
       "    <tr>\n",
       "      <th>1</th>\n",
       "      <td>SHSE.600085_201502</td>\n",
       "      <td>1</td>\n",
       "      <td>23.492000</td>\n",
       "    </tr>\n",
       "    <tr>\n",
       "      <th>2</th>\n",
       "      <td>SHSE.600085_201503</td>\n",
       "      <td>1</td>\n",
       "      <td>22.320000</td>\n",
       "    </tr>\n",
       "    <tr>\n",
       "      <th>3</th>\n",
       "      <td>SHSE.600085_201504</td>\n",
       "      <td>1</td>\n",
       "      <td>26.378000</td>\n",
       "    </tr>\n",
       "    <tr>\n",
       "      <th>4</th>\n",
       "      <td>SHSE.600085_201505</td>\n",
       "      <td>1</td>\n",
       "      <td>32.888000</td>\n",
       "    </tr>\n",
       "  </tbody>\n",
       "</table>\n",
       "</div>"
      ],
      "text/plain": [
       "                   id  label         ma\n",
       "0  SHSE.600085_201501      0  21.291999\n",
       "1  SHSE.600085_201502      1  23.492000\n",
       "2  SHSE.600085_201503      1  22.320000\n",
       "3  SHSE.600085_201504      1  26.378000\n",
       "4  SHSE.600085_201505      1  32.888000"
      ]
     },
     "execution_count": 16,
     "metadata": {},
     "output_type": "execute_result"
    }
   ],
   "source": [
    "result = pd.concat([dataset, pd.DataFrame(temp).reindex(dataset.index)], axis=1)\n",
    "result.head()"
   ]
  },
  {
   "cell_type": "code",
   "execution_count": 17,
   "metadata": {},
   "outputs": [],
   "source": [
    "result.to_excel(\"train_output.xlsx\", index = False)  "
   ]
  },
  {
   "cell_type": "markdown",
   "metadata": {},
   "source": [
    "### Consider more features"
   ]
  },
  {
   "cell_type": "code",
   "execution_count": 18,
   "metadata": {},
   "outputs": [],
   "source": [
    "results = pd.read_excel(\"train_output.xlsx\", sheet_name = \"Sheet1\")"
   ]
  },
  {
   "cell_type": "code",
   "execution_count": 19,
   "metadata": {},
   "outputs": [
    {
     "data": {
      "text/plain": [
       "(2000, 3)"
      ]
     },
     "execution_count": 19,
     "metadata": {},
     "output_type": "execute_result"
    }
   ],
   "source": [
    "results.shape"
   ]
  },
  {
   "cell_type": "code",
   "execution_count": 20,
   "metadata": {},
   "outputs": [
    {
     "data": {
      "text/html": [
       "<div>\n",
       "<style scoped>\n",
       "    .dataframe tbody tr th:only-of-type {\n",
       "        vertical-align: middle;\n",
       "    }\n",
       "\n",
       "    .dataframe tbody tr th {\n",
       "        vertical-align: top;\n",
       "    }\n",
       "\n",
       "    .dataframe thead th {\n",
       "        text-align: right;\n",
       "    }\n",
       "</style>\n",
       "<table border=\"1\" class=\"dataframe\">\n",
       "  <thead>\n",
       "    <tr style=\"text-align: right;\">\n",
       "      <th></th>\n",
       "      <th>id</th>\n",
       "      <th>label</th>\n",
       "      <th>ma</th>\n",
       "    </tr>\n",
       "  </thead>\n",
       "  <tbody>\n",
       "    <tr>\n",
       "      <th>0</th>\n",
       "      <td>SHSE.600085_201501</td>\n",
       "      <td>0</td>\n",
       "      <td>21.291999</td>\n",
       "    </tr>\n",
       "    <tr>\n",
       "      <th>1</th>\n",
       "      <td>SHSE.600085_201502</td>\n",
       "      <td>1</td>\n",
       "      <td>23.492000</td>\n",
       "    </tr>\n",
       "    <tr>\n",
       "      <th>2</th>\n",
       "      <td>SHSE.600085_201503</td>\n",
       "      <td>1</td>\n",
       "      <td>22.320000</td>\n",
       "    </tr>\n",
       "    <tr>\n",
       "      <th>3</th>\n",
       "      <td>SHSE.600085_201504</td>\n",
       "      <td>1</td>\n",
       "      <td>26.378000</td>\n",
       "    </tr>\n",
       "    <tr>\n",
       "      <th>4</th>\n",
       "      <td>SHSE.600085_201505</td>\n",
       "      <td>1</td>\n",
       "      <td>32.888000</td>\n",
       "    </tr>\n",
       "  </tbody>\n",
       "</table>\n",
       "</div>"
      ],
      "text/plain": [
       "                   id  label         ma\n",
       "0  SHSE.600085_201501      0  21.291999\n",
       "1  SHSE.600085_201502      1  23.492000\n",
       "2  SHSE.600085_201503      1  22.320000\n",
       "3  SHSE.600085_201504      1  26.378000\n",
       "4  SHSE.600085_201505      1  32.888000"
      ]
     },
     "execution_count": 20,
     "metadata": {},
     "output_type": "execute_result"
    }
   ],
   "source": [
    "results.head()"
   ]
  },
  {
   "cell_type": "code",
   "execution_count": 21,
   "metadata": {},
   "outputs": [],
   "source": [
    "import copy"
   ]
  },
  {
   "cell_type": "code",
   "execution_count": 22,
   "metadata": {},
   "outputs": [],
   "source": [
    "dataset = copy.deepcopy(results)"
   ]
  },
  {
   "cell_type": "code",
   "execution_count": 23,
   "metadata": {},
   "outputs": [
    {
     "data": {
      "text/plain": [
       "2000"
      ]
     },
     "execution_count": 23,
     "metadata": {},
     "output_type": "execute_result"
    }
   ],
   "source": [
    "len(dataset)"
   ]
  },
  {
   "cell_type": "markdown",
   "metadata": {},
   "source": [
    "##### START: Caculating the five-day average close price of SHSE.600085 at 2015-01-31"
   ]
  },
  {
   "cell_type": "code",
   "execution_count": 24,
   "metadata": {},
   "outputs": [],
   "source": [
    "def ma_with_exp(input_price, trade_company, trade_date_datetime):\n",
    "    df = input_price[trade_company]\n",
    "    lower_index = 0\n",
    "    for index in range(0, df.shape[0]):\n",
    "        if(df[\"date\"][index].year == trade_date_datetime.year)\\\n",
    "        and(df[\"date\"][index].month <= trade_date_datetime.month):\n",
    "            lower_index = index\n",
    "\n",
    "    inputs = {\n",
    "        'open': df[\"open\"].iloc[:lower_index],\n",
    "        'high': df[\"high\"].iloc[:lower_index],\n",
    "        'low':  df[\"low\"].iloc[:lower_index],\n",
    "        'close': df[\"close\"].iloc[:lower_index],\n",
    "        'volume': df[\"volume\"].iloc[:lower_index]\n",
    "    }\n",
    "    # uses close prices (default)\n",
    "    output = abstract.EMA(inputs, 5)\n",
    "    return output[-1]"
   ]
  },
  {
   "cell_type": "code",
   "execution_count": 25,
   "metadata": {},
   "outputs": [
    {
     "name": "stdout",
     "output_type": "stream",
     "text": [
      "0 2020-05-25 15:36:08.911300\n",
      "1000 2020-05-25 15:36:22.989624\n"
     ]
    }
   ],
   "source": [
    "temp = []\n",
    "for i in range(0, dataset.shape[0]):\n",
    "    if(i%1000==0):\n",
    "        print(i, datetime.datetime.now())\n",
    "    trade_company = dataset.iloc[i][0].split(\"_\")[0]\n",
    "    trade_date    = dataset.iloc[i][0].split(\"_\")[1]\n",
    "    trade_date_datetime = datetime.date(int(trade_date[:4]), int(trade_date[4:]), 1) - datetime.timedelta(days=1)\n",
    "    temp.append(ma_with_exp(input_price, trade_company, trade_date_datetime))\n",
    "#     print(i, trade_company, trade_date, trade_date_datetime)"
   ]
  },
  {
   "cell_type": "code",
   "execution_count": 26,
   "metadata": {},
   "outputs": [
    {
     "data": {
      "text/plain": [
       "2000"
      ]
     },
     "execution_count": 26,
     "metadata": {},
     "output_type": "execute_result"
    }
   ],
   "source": [
    "len(temp)"
   ]
  },
  {
   "cell_type": "code",
   "execution_count": 27,
   "metadata": {},
   "outputs": [],
   "source": [
    "pd.DataFrame(temp, columns=[\"ma_with_exp\"]).head()\n",
    "temp = pd.DataFrame(temp, columns=[\"ma_with_exp\"])"
   ]
  },
  {
   "cell_type": "code",
   "execution_count": 28,
   "metadata": {},
   "outputs": [
    {
     "data": {
      "text/plain": [
       "(2000, 3)"
      ]
     },
     "execution_count": 28,
     "metadata": {},
     "output_type": "execute_result"
    }
   ],
   "source": [
    "dataset.shape"
   ]
  },
  {
   "cell_type": "code",
   "execution_count": 29,
   "metadata": {},
   "outputs": [
    {
     "data": {
      "text/html": [
       "<div>\n",
       "<style scoped>\n",
       "    .dataframe tbody tr th:only-of-type {\n",
       "        vertical-align: middle;\n",
       "    }\n",
       "\n",
       "    .dataframe tbody tr th {\n",
       "        vertical-align: top;\n",
       "    }\n",
       "\n",
       "    .dataframe thead th {\n",
       "        text-align: right;\n",
       "    }\n",
       "</style>\n",
       "<table border=\"1\" class=\"dataframe\">\n",
       "  <thead>\n",
       "    <tr style=\"text-align: right;\">\n",
       "      <th></th>\n",
       "      <th>id</th>\n",
       "      <th>label</th>\n",
       "      <th>ma</th>\n",
       "      <th>ma_with_exp</th>\n",
       "    </tr>\n",
       "  </thead>\n",
       "  <tbody>\n",
       "    <tr>\n",
       "      <th>0</th>\n",
       "      <td>SHSE.600085_201501</td>\n",
       "      <td>0</td>\n",
       "      <td>21.291999</td>\n",
       "      <td>21.437717</td>\n",
       "    </tr>\n",
       "    <tr>\n",
       "      <th>1</th>\n",
       "      <td>SHSE.600085_201502</td>\n",
       "      <td>1</td>\n",
       "      <td>23.492000</td>\n",
       "      <td>23.357240</td>\n",
       "    </tr>\n",
       "    <tr>\n",
       "      <th>2</th>\n",
       "      <td>SHSE.600085_201503</td>\n",
       "      <td>1</td>\n",
       "      <td>22.320000</td>\n",
       "      <td>22.334699</td>\n",
       "    </tr>\n",
       "    <tr>\n",
       "      <th>3</th>\n",
       "      <td>SHSE.600085_201504</td>\n",
       "      <td>1</td>\n",
       "      <td>26.378000</td>\n",
       "      <td>25.994325</td>\n",
       "    </tr>\n",
       "    <tr>\n",
       "      <th>4</th>\n",
       "      <td>SHSE.600085_201505</td>\n",
       "      <td>1</td>\n",
       "      <td>32.888000</td>\n",
       "      <td>32.987757</td>\n",
       "    </tr>\n",
       "  </tbody>\n",
       "</table>\n",
       "</div>"
      ],
      "text/plain": [
       "                   id  label         ma  ma_with_exp\n",
       "0  SHSE.600085_201501      0  21.291999    21.437717\n",
       "1  SHSE.600085_201502      1  23.492000    23.357240\n",
       "2  SHSE.600085_201503      1  22.320000    22.334699\n",
       "3  SHSE.600085_201504      1  26.378000    25.994325\n",
       "4  SHSE.600085_201505      1  32.888000    32.987757"
      ]
     },
     "execution_count": 29,
     "metadata": {},
     "output_type": "execute_result"
    }
   ],
   "source": [
    "result = pd.concat([dataset, pd.DataFrame(temp).reindex(dataset.index)], axis=1)\n",
    "result.head()"
   ]
  },
  {
   "cell_type": "code",
   "execution_count": 30,
   "metadata": {},
   "outputs": [],
   "source": [
    "result.to_excel(\"train_output.xlsx\", index = False)  "
   ]
  },
  {
   "cell_type": "code",
   "execution_count": null,
   "metadata": {},
   "outputs": [],
   "source": []
  },
  {
   "cell_type": "markdown",
   "metadata": {},
   "source": [
    "### Prediction"
   ]
  },
  {
   "cell_type": "code",
   "execution_count": 31,
   "metadata": {},
   "outputs": [],
   "source": [
    "results = pd.read_excel(\"train_output.xlsx\", sheet_name = \"Sheet1\")"
   ]
  },
  {
   "cell_type": "code",
   "execution_count": 32,
   "metadata": {},
   "outputs": [
    {
     "data": {
      "text/html": [
       "<div>\n",
       "<style scoped>\n",
       "    .dataframe tbody tr th:only-of-type {\n",
       "        vertical-align: middle;\n",
       "    }\n",
       "\n",
       "    .dataframe tbody tr th {\n",
       "        vertical-align: top;\n",
       "    }\n",
       "\n",
       "    .dataframe thead th {\n",
       "        text-align: right;\n",
       "    }\n",
       "</style>\n",
       "<table border=\"1\" class=\"dataframe\">\n",
       "  <thead>\n",
       "    <tr style=\"text-align: right;\">\n",
       "      <th></th>\n",
       "      <th>id</th>\n",
       "      <th>label</th>\n",
       "      <th>ma</th>\n",
       "      <th>ma_with_exp</th>\n",
       "    </tr>\n",
       "  </thead>\n",
       "  <tbody>\n",
       "    <tr>\n",
       "      <th>0</th>\n",
       "      <td>SHSE.600085_201501</td>\n",
       "      <td>0</td>\n",
       "      <td>21.291999</td>\n",
       "      <td>21.437717</td>\n",
       "    </tr>\n",
       "    <tr>\n",
       "      <th>1</th>\n",
       "      <td>SHSE.600085_201502</td>\n",
       "      <td>1</td>\n",
       "      <td>23.492000</td>\n",
       "      <td>23.357240</td>\n",
       "    </tr>\n",
       "    <tr>\n",
       "      <th>2</th>\n",
       "      <td>SHSE.600085_201503</td>\n",
       "      <td>1</td>\n",
       "      <td>22.320000</td>\n",
       "      <td>22.334699</td>\n",
       "    </tr>\n",
       "    <tr>\n",
       "      <th>3</th>\n",
       "      <td>SHSE.600085_201504</td>\n",
       "      <td>1</td>\n",
       "      <td>26.378000</td>\n",
       "      <td>25.994325</td>\n",
       "    </tr>\n",
       "    <tr>\n",
       "      <th>4</th>\n",
       "      <td>SHSE.600085_201505</td>\n",
       "      <td>1</td>\n",
       "      <td>32.888000</td>\n",
       "      <td>32.987757</td>\n",
       "    </tr>\n",
       "  </tbody>\n",
       "</table>\n",
       "</div>"
      ],
      "text/plain": [
       "                   id  label         ma  ma_with_exp\n",
       "0  SHSE.600085_201501      0  21.291999    21.437717\n",
       "1  SHSE.600085_201502      1  23.492000    23.357240\n",
       "2  SHSE.600085_201503      1  22.320000    22.334699\n",
       "3  SHSE.600085_201504      1  26.378000    25.994325\n",
       "4  SHSE.600085_201505      1  32.888000    32.987757"
      ]
     },
     "execution_count": 32,
     "metadata": {},
     "output_type": "execute_result"
    }
   ],
   "source": [
    "results.head()"
   ]
  },
  {
   "cell_type": "code",
   "execution_count": 33,
   "metadata": {},
   "outputs": [
    {
     "data": {
      "text/plain": [
       "True"
      ]
     },
     "execution_count": 33,
     "metadata": {},
     "output_type": "execute_result"
    }
   ],
   "source": [
    "results.isnull().values.any()"
   ]
  },
  {
   "cell_type": "code",
   "execution_count": 34,
   "metadata": {},
   "outputs": [
    {
     "data": {
      "text/html": [
       "<div>\n",
       "<style scoped>\n",
       "    .dataframe tbody tr th:only-of-type {\n",
       "        vertical-align: middle;\n",
       "    }\n",
       "\n",
       "    .dataframe tbody tr th {\n",
       "        vertical-align: top;\n",
       "    }\n",
       "\n",
       "    .dataframe thead th {\n",
       "        text-align: right;\n",
       "    }\n",
       "</style>\n",
       "<table border=\"1\" class=\"dataframe\">\n",
       "  <thead>\n",
       "    <tr style=\"text-align: right;\">\n",
       "      <th></th>\n",
       "      <th>id</th>\n",
       "      <th>label</th>\n",
       "      <th>ma</th>\n",
       "      <th>ma_with_exp</th>\n",
       "    </tr>\n",
       "  </thead>\n",
       "  <tbody>\n",
       "    <tr>\n",
       "      <th>0</th>\n",
       "      <td>SHSE.600085_201501</td>\n",
       "      <td>0</td>\n",
       "      <td>21.291999</td>\n",
       "      <td>21.437717</td>\n",
       "    </tr>\n",
       "    <tr>\n",
       "      <th>1</th>\n",
       "      <td>SHSE.600085_201502</td>\n",
       "      <td>1</td>\n",
       "      <td>23.492000</td>\n",
       "      <td>23.357240</td>\n",
       "    </tr>\n",
       "    <tr>\n",
       "      <th>2</th>\n",
       "      <td>SHSE.600085_201503</td>\n",
       "      <td>1</td>\n",
       "      <td>22.320000</td>\n",
       "      <td>22.334699</td>\n",
       "    </tr>\n",
       "    <tr>\n",
       "      <th>3</th>\n",
       "      <td>SHSE.600085_201504</td>\n",
       "      <td>1</td>\n",
       "      <td>26.378000</td>\n",
       "      <td>25.994325</td>\n",
       "    </tr>\n",
       "    <tr>\n",
       "      <th>4</th>\n",
       "      <td>SHSE.600085_201505</td>\n",
       "      <td>1</td>\n",
       "      <td>32.888000</td>\n",
       "      <td>32.987757</td>\n",
       "    </tr>\n",
       "    <tr>\n",
       "      <th>...</th>\n",
       "      <td>...</td>\n",
       "      <td>...</td>\n",
       "      <td>...</td>\n",
       "      <td>...</td>\n",
       "    </tr>\n",
       "    <tr>\n",
       "      <th>1995</th>\n",
       "      <td>SHSE.601006_201612</td>\n",
       "      <td>0</td>\n",
       "      <td>7.152000</td>\n",
       "      <td>7.183480</td>\n",
       "    </tr>\n",
       "    <tr>\n",
       "      <th>1996</th>\n",
       "      <td>SHSE.601006_201701</td>\n",
       "      <td>0</td>\n",
       "      <td>7.048000</td>\n",
       "      <td>7.035677</td>\n",
       "    </tr>\n",
       "    <tr>\n",
       "      <th>1997</th>\n",
       "      <td>SHSE.601006_201702</td>\n",
       "      <td>0</td>\n",
       "      <td>7.164000</td>\n",
       "      <td>7.156839</td>\n",
       "    </tr>\n",
       "    <tr>\n",
       "      <th>1998</th>\n",
       "      <td>SHSE.601006_201703</td>\n",
       "      <td>1</td>\n",
       "      <td>7.028000</td>\n",
       "      <td>7.011566</td>\n",
       "    </tr>\n",
       "    <tr>\n",
       "      <th>1999</th>\n",
       "      <td>SHSE.601006_201704</td>\n",
       "      <td>1</td>\n",
       "      <td>7.340000</td>\n",
       "      <td>7.326838</td>\n",
       "    </tr>\n",
       "  </tbody>\n",
       "</table>\n",
       "<p>1998 rows × 4 columns</p>\n",
       "</div>"
      ],
      "text/plain": [
       "                      id  label         ma  ma_with_exp\n",
       "0     SHSE.600085_201501      0  21.291999    21.437717\n",
       "1     SHSE.600085_201502      1  23.492000    23.357240\n",
       "2     SHSE.600085_201503      1  22.320000    22.334699\n",
       "3     SHSE.600085_201504      1  26.378000    25.994325\n",
       "4     SHSE.600085_201505      1  32.888000    32.987757\n",
       "...                  ...    ...        ...          ...\n",
       "1995  SHSE.601006_201612      0   7.152000     7.183480\n",
       "1996  SHSE.601006_201701      0   7.048000     7.035677\n",
       "1997  SHSE.601006_201702      0   7.164000     7.156839\n",
       "1998  SHSE.601006_201703      1   7.028000     7.011566\n",
       "1999  SHSE.601006_201704      1   7.340000     7.326838\n",
       "\n",
       "[1998 rows x 4 columns]"
      ]
     },
     "execution_count": 34,
     "metadata": {},
     "output_type": "execute_result"
    }
   ],
   "source": [
    "results.dropna(axis=0)"
   ]
  },
  {
   "cell_type": "code",
   "execution_count": 35,
   "metadata": {},
   "outputs": [],
   "source": [
    "results = results.dropna(axis=0)"
   ]
  },
  {
   "cell_type": "code",
   "execution_count": 36,
   "metadata": {},
   "outputs": [
    {
     "data": {
      "text/plain": [
       "False"
      ]
     },
     "execution_count": 36,
     "metadata": {},
     "output_type": "execute_result"
    }
   ],
   "source": [
    "results.isnull().values.any()"
   ]
  },
  {
   "cell_type": "code",
   "execution_count": 37,
   "metadata": {},
   "outputs": [],
   "source": [
    "y = pd.DataFrame(results[\"label\"])\n",
    "X = pd.DataFrame(results.iloc[:, 2:4])"
   ]
  },
  {
   "cell_type": "code",
   "execution_count": 38,
   "metadata": {},
   "outputs": [
    {
     "data": {
      "text/html": [
       "<div>\n",
       "<style scoped>\n",
       "    .dataframe tbody tr th:only-of-type {\n",
       "        vertical-align: middle;\n",
       "    }\n",
       "\n",
       "    .dataframe tbody tr th {\n",
       "        vertical-align: top;\n",
       "    }\n",
       "\n",
       "    .dataframe thead th {\n",
       "        text-align: right;\n",
       "    }\n",
       "</style>\n",
       "<table border=\"1\" class=\"dataframe\">\n",
       "  <thead>\n",
       "    <tr style=\"text-align: right;\">\n",
       "      <th></th>\n",
       "      <th>label</th>\n",
       "    </tr>\n",
       "  </thead>\n",
       "  <tbody>\n",
       "    <tr>\n",
       "      <th>0</th>\n",
       "      <td>0</td>\n",
       "    </tr>\n",
       "    <tr>\n",
       "      <th>1</th>\n",
       "      <td>1</td>\n",
       "    </tr>\n",
       "    <tr>\n",
       "      <th>2</th>\n",
       "      <td>1</td>\n",
       "    </tr>\n",
       "    <tr>\n",
       "      <th>3</th>\n",
       "      <td>1</td>\n",
       "    </tr>\n",
       "    <tr>\n",
       "      <th>4</th>\n",
       "      <td>1</td>\n",
       "    </tr>\n",
       "  </tbody>\n",
       "</table>\n",
       "</div>"
      ],
      "text/plain": [
       "   label\n",
       "0      0\n",
       "1      1\n",
       "2      1\n",
       "3      1\n",
       "4      1"
      ]
     },
     "execution_count": 38,
     "metadata": {},
     "output_type": "execute_result"
    }
   ],
   "source": [
    "y.head()"
   ]
  },
  {
   "cell_type": "code",
   "execution_count": 39,
   "metadata": {},
   "outputs": [
    {
     "data": {
      "text/html": [
       "<div>\n",
       "<style scoped>\n",
       "    .dataframe tbody tr th:only-of-type {\n",
       "        vertical-align: middle;\n",
       "    }\n",
       "\n",
       "    .dataframe tbody tr th {\n",
       "        vertical-align: top;\n",
       "    }\n",
       "\n",
       "    .dataframe thead th {\n",
       "        text-align: right;\n",
       "    }\n",
       "</style>\n",
       "<table border=\"1\" class=\"dataframe\">\n",
       "  <thead>\n",
       "    <tr style=\"text-align: right;\">\n",
       "      <th></th>\n",
       "      <th>ma</th>\n",
       "      <th>ma_with_exp</th>\n",
       "    </tr>\n",
       "  </thead>\n",
       "  <tbody>\n",
       "    <tr>\n",
       "      <th>0</th>\n",
       "      <td>21.291999</td>\n",
       "      <td>21.437717</td>\n",
       "    </tr>\n",
       "    <tr>\n",
       "      <th>1</th>\n",
       "      <td>23.492000</td>\n",
       "      <td>23.357240</td>\n",
       "    </tr>\n",
       "    <tr>\n",
       "      <th>2</th>\n",
       "      <td>22.320000</td>\n",
       "      <td>22.334699</td>\n",
       "    </tr>\n",
       "    <tr>\n",
       "      <th>3</th>\n",
       "      <td>26.378000</td>\n",
       "      <td>25.994325</td>\n",
       "    </tr>\n",
       "    <tr>\n",
       "      <th>4</th>\n",
       "      <td>32.888000</td>\n",
       "      <td>32.987757</td>\n",
       "    </tr>\n",
       "  </tbody>\n",
       "</table>\n",
       "</div>"
      ],
      "text/plain": [
       "          ma  ma_with_exp\n",
       "0  21.291999    21.437717\n",
       "1  23.492000    23.357240\n",
       "2  22.320000    22.334699\n",
       "3  26.378000    25.994325\n",
       "4  32.888000    32.987757"
      ]
     },
     "execution_count": 39,
     "metadata": {},
     "output_type": "execute_result"
    }
   ],
   "source": [
    "X.head()"
   ]
  },
  {
   "cell_type": "code",
   "execution_count": 40,
   "metadata": {},
   "outputs": [
    {
     "data": {
      "text/plain": [
       "1998"
      ]
     },
     "execution_count": 40,
     "metadata": {},
     "output_type": "execute_result"
    }
   ],
   "source": [
    "len(X)"
   ]
  },
  {
   "cell_type": "code",
   "execution_count": 41,
   "metadata": {},
   "outputs": [
    {
     "data": {
      "text/plain": [
       "LogisticRegression(C=1.0, class_weight=None, dual=False, fit_intercept=True,\n",
       "                   intercept_scaling=1, l1_ratio=None, max_iter=100,\n",
       "                   multi_class='auto', n_jobs=None, penalty='l2',\n",
       "                   random_state=None, solver='lbfgs', tol=0.0001, verbose=0,\n",
       "                   warm_start=False)"
      ]
     },
     "execution_count": 41,
     "metadata": {},
     "output_type": "execute_result"
    }
   ],
   "source": [
    "clf = LogisticRegression()\n",
    "clf.fit(X, y)"
   ]
  },
  {
   "cell_type": "markdown",
   "metadata": {},
   "source": [
    "#### 開始處理 test set"
   ]
  },
  {
   "cell_type": "code",
   "execution_count": 42,
   "metadata": {},
   "outputs": [],
   "source": [
    "test_input_price = pd.read_excel(\"daily_trading_info_2019-2020.xlsx\", sheet_name = None)"
   ]
  },
  {
   "cell_type": "code",
   "execution_count": 43,
   "metadata": {},
   "outputs": [],
   "source": [
    "test_stock_index = []\n",
    "test_stock_index = list(test_input_price.keys())[0:]"
   ]
  },
  {
   "cell_type": "code",
   "execution_count": 44,
   "metadata": {},
   "outputs": [],
   "source": [
    "test_results = pd.read_csv(\"sampleSubmission.csv\")"
   ]
  },
  {
   "cell_type": "code",
   "execution_count": 45,
   "metadata": {},
   "outputs": [
    {
     "data": {
      "text/html": [
       "<div>\n",
       "<style scoped>\n",
       "    .dataframe tbody tr th:only-of-type {\n",
       "        vertical-align: middle;\n",
       "    }\n",
       "\n",
       "    .dataframe tbody tr th {\n",
       "        vertical-align: top;\n",
       "    }\n",
       "\n",
       "    .dataframe thead th {\n",
       "        text-align: right;\n",
       "    }\n",
       "</style>\n",
       "<table border=\"1\" class=\"dataframe\">\n",
       "  <thead>\n",
       "    <tr style=\"text-align: right;\">\n",
       "      <th></th>\n",
       "      <th>id</th>\n",
       "      <th>label</th>\n",
       "    </tr>\n",
       "  </thead>\n",
       "  <tbody>\n",
       "    <tr>\n",
       "      <th>0</th>\n",
       "      <td>SHSE.600085_201901</td>\n",
       "      <td>1</td>\n",
       "    </tr>\n",
       "    <tr>\n",
       "      <th>1</th>\n",
       "      <td>SHSE.600085_201902</td>\n",
       "      <td>1</td>\n",
       "    </tr>\n",
       "    <tr>\n",
       "      <th>2</th>\n",
       "      <td>SHSE.600085_201903</td>\n",
       "      <td>1</td>\n",
       "    </tr>\n",
       "    <tr>\n",
       "      <th>3</th>\n",
       "      <td>SHSE.600085_201904</td>\n",
       "      <td>1</td>\n",
       "    </tr>\n",
       "    <tr>\n",
       "      <th>4</th>\n",
       "      <td>SHSE.600085_201905</td>\n",
       "      <td>1</td>\n",
       "    </tr>\n",
       "  </tbody>\n",
       "</table>\n",
       "</div>"
      ],
      "text/plain": [
       "                   id  label\n",
       "0  SHSE.600085_201901      1\n",
       "1  SHSE.600085_201902      1\n",
       "2  SHSE.600085_201903      1\n",
       "3  SHSE.600085_201904      1\n",
       "4  SHSE.600085_201905      1"
      ]
     },
     "execution_count": 45,
     "metadata": {},
     "output_type": "execute_result"
    }
   ],
   "source": [
    "test_results.head()"
   ]
  },
  {
   "cell_type": "code",
   "execution_count": 46,
   "metadata": {},
   "outputs": [],
   "source": [
    "import copy"
   ]
  },
  {
   "cell_type": "code",
   "execution_count": 47,
   "metadata": {},
   "outputs": [],
   "source": [
    "test_dataset = copy.deepcopy(test_results)"
   ]
  },
  {
   "cell_type": "code",
   "execution_count": 48,
   "metadata": {
    "scrolled": true
   },
   "outputs": [],
   "source": [
    "def ma2(test_input_price, input_price, trade_company,trade_date_datetime):\n",
    "    df = test_input_price[trade_company]\n",
    "    lower_index = 0\n",
    "    for index in range(0, df.shape[0]):\n",
    "        if(df[\"date\"][index].year == trade_date_datetime.year)\\\n",
    "        and(df[\"date\"][index].month <= trade_date_datetime.month):\n",
    "            lower_index = index\n",
    "\n",
    "    if(lower_index == 0):\n",
    "        output = ma(input_price, trade_company,trade_date_datetime)\n",
    "    else:       \n",
    "        inputs = {\n",
    "            'open': df[\"open\"].iloc[:lower_index],\n",
    "            'high': df[\"high\"].iloc[:lower_index],\n",
    "            'low':  df[\"low\"].iloc[:lower_index],\n",
    "            'close': df[\"close\"].iloc[:lower_index],\n",
    "            'volume': df[\"volume\"].iloc[:lower_index]\n",
    "        }\n",
    "        # uses close prices (default)\n",
    "        output = abstract.SMA(inputs, timeperiod=5)\n",
    "        output = output[-1]\n",
    "    return output"
   ]
  },
  {
   "cell_type": "code",
   "execution_count": 49,
   "metadata": {},
   "outputs": [
    {
     "name": "stdout",
     "output_type": "stream",
     "text": [
      "0 2020-05-25 15:36:55.371684\n",
      "1000 2020-05-25 15:37:01.895975\n",
      "2000 2020-05-25 15:37:08.226278\n",
      "3000 2020-05-25 15:37:14.530248\n",
      "4000 2020-05-25 15:37:20.556366\n",
      "5000 2020-05-25 15:37:26.738736\n",
      "6000 2020-05-25 15:37:33.202090\n",
      "7000 2020-05-25 15:37:39.348935\n",
      "8000 2020-05-25 15:37:45.539418\n",
      "9000 2020-05-25 15:37:51.811003\n",
      "10000 2020-05-25 15:37:58.332424\n",
      "11000 2020-05-25 15:38:04.524227\n"
     ]
    }
   ],
   "source": [
    "temp = []\n",
    "for i in range(0, test_dataset.shape[0]):\n",
    "    if(i%1000==0):\n",
    "        print(i, datetime.datetime.now())\n",
    "    trade_company = test_dataset.iloc[i][0].split(\"_\")[0]\n",
    "    trade_date    = test_dataset.iloc[i][0].split(\"_\")[1]\n",
    "    trade_date_datetime = datetime.date(int(trade_date[:4]), int(trade_date[4:]), 1) - datetime.timedelta(days=1)\n",
    "    temp.append(ma2(test_input_price, input_price, trade_company,trade_date_datetime))\n",
    "#     print(i, trade_company, trade_date)"
   ]
  },
  {
   "cell_type": "code",
   "execution_count": 50,
   "metadata": {},
   "outputs": [
    {
     "data": {
      "text/plain": [
       "11363"
      ]
     },
     "execution_count": 50,
     "metadata": {},
     "output_type": "execute_result"
    }
   ],
   "source": [
    "len(temp)"
   ]
  },
  {
   "cell_type": "code",
   "execution_count": 51,
   "metadata": {},
   "outputs": [
    {
     "data": {
      "text/plain": [
       "11363"
      ]
     },
     "execution_count": 51,
     "metadata": {},
     "output_type": "execute_result"
    }
   ],
   "source": [
    "test_dataset.shape[0]"
   ]
  },
  {
   "cell_type": "code",
   "execution_count": 52,
   "metadata": {
    "scrolled": true
   },
   "outputs": [
    {
     "data": {
      "text/html": [
       "<div>\n",
       "<style scoped>\n",
       "    .dataframe tbody tr th:only-of-type {\n",
       "        vertical-align: middle;\n",
       "    }\n",
       "\n",
       "    .dataframe tbody tr th {\n",
       "        vertical-align: top;\n",
       "    }\n",
       "\n",
       "    .dataframe thead th {\n",
       "        text-align: right;\n",
       "    }\n",
       "</style>\n",
       "<table border=\"1\" class=\"dataframe\">\n",
       "  <thead>\n",
       "    <tr style=\"text-align: right;\">\n",
       "      <th></th>\n",
       "      <th>id</th>\n",
       "      <th>label</th>\n",
       "      <th>ma</th>\n",
       "    </tr>\n",
       "  </thead>\n",
       "  <tbody>\n",
       "    <tr>\n",
       "      <th>0</th>\n",
       "      <td>SHSE.600085_201901</td>\n",
       "      <td>1</td>\n",
       "      <td>27.124</td>\n",
       "    </tr>\n",
       "    <tr>\n",
       "      <th>1</th>\n",
       "      <td>SHSE.600085_201902</td>\n",
       "      <td>1</td>\n",
       "      <td>26.624</td>\n",
       "    </tr>\n",
       "    <tr>\n",
       "      <th>2</th>\n",
       "      <td>SHSE.600085_201903</td>\n",
       "      <td>1</td>\n",
       "      <td>28.890</td>\n",
       "    </tr>\n",
       "    <tr>\n",
       "      <th>3</th>\n",
       "      <td>SHSE.600085_201904</td>\n",
       "      <td>1</td>\n",
       "      <td>29.560</td>\n",
       "    </tr>\n",
       "    <tr>\n",
       "      <th>4</th>\n",
       "      <td>SHSE.600085_201905</td>\n",
       "      <td>1</td>\n",
       "      <td>31.514</td>\n",
       "    </tr>\n",
       "  </tbody>\n",
       "</table>\n",
       "</div>"
      ],
      "text/plain": [
       "                   id  label      ma\n",
       "0  SHSE.600085_201901      1  27.124\n",
       "1  SHSE.600085_201902      1  26.624\n",
       "2  SHSE.600085_201903      1  28.890\n",
       "3  SHSE.600085_201904      1  29.560\n",
       "4  SHSE.600085_201905      1  31.514"
      ]
     },
     "execution_count": 52,
     "metadata": {},
     "output_type": "execute_result"
    }
   ],
   "source": [
    "temp = pd.DataFrame(temp, columns=[\"ma\"])\n",
    "test_result = pd.concat([test_dataset, temp], axis=1)\n",
    "test_result.head()"
   ]
  },
  {
   "cell_type": "code",
   "execution_count": 53,
   "metadata": {},
   "outputs": [],
   "source": [
    "test_result.to_excel(\"test_output.xlsx\", index = None)  "
   ]
  },
  {
   "cell_type": "code",
   "execution_count": 54,
   "metadata": {},
   "outputs": [],
   "source": [
    "results = pd.read_excel(\"test_output.xlsx\", sheet_name = \"Sheet1\")"
   ]
  },
  {
   "cell_type": "code",
   "execution_count": 55,
   "metadata": {},
   "outputs": [
    {
     "data": {
      "text/plain": [
       "(11363, 3)"
      ]
     },
     "execution_count": 55,
     "metadata": {},
     "output_type": "execute_result"
    }
   ],
   "source": [
    "results.shape"
   ]
  },
  {
   "cell_type": "code",
   "execution_count": 56,
   "metadata": {},
   "outputs": [
    {
     "data": {
      "text/html": [
       "<div>\n",
       "<style scoped>\n",
       "    .dataframe tbody tr th:only-of-type {\n",
       "        vertical-align: middle;\n",
       "    }\n",
       "\n",
       "    .dataframe tbody tr th {\n",
       "        vertical-align: top;\n",
       "    }\n",
       "\n",
       "    .dataframe thead th {\n",
       "        text-align: right;\n",
       "    }\n",
       "</style>\n",
       "<table border=\"1\" class=\"dataframe\">\n",
       "  <thead>\n",
       "    <tr style=\"text-align: right;\">\n",
       "      <th></th>\n",
       "      <th>id</th>\n",
       "      <th>label</th>\n",
       "      <th>ma</th>\n",
       "    </tr>\n",
       "  </thead>\n",
       "  <tbody>\n",
       "    <tr>\n",
       "      <th>0</th>\n",
       "      <td>SHSE.600085_201901</td>\n",
       "      <td>1</td>\n",
       "      <td>27.124</td>\n",
       "    </tr>\n",
       "    <tr>\n",
       "      <th>1</th>\n",
       "      <td>SHSE.600085_201902</td>\n",
       "      <td>1</td>\n",
       "      <td>26.624</td>\n",
       "    </tr>\n",
       "    <tr>\n",
       "      <th>2</th>\n",
       "      <td>SHSE.600085_201903</td>\n",
       "      <td>1</td>\n",
       "      <td>28.890</td>\n",
       "    </tr>\n",
       "    <tr>\n",
       "      <th>3</th>\n",
       "      <td>SHSE.600085_201904</td>\n",
       "      <td>1</td>\n",
       "      <td>29.560</td>\n",
       "    </tr>\n",
       "    <tr>\n",
       "      <th>4</th>\n",
       "      <td>SHSE.600085_201905</td>\n",
       "      <td>1</td>\n",
       "      <td>31.514</td>\n",
       "    </tr>\n",
       "  </tbody>\n",
       "</table>\n",
       "</div>"
      ],
      "text/plain": [
       "                   id  label      ma\n",
       "0  SHSE.600085_201901      1  27.124\n",
       "1  SHSE.600085_201902      1  26.624\n",
       "2  SHSE.600085_201903      1  28.890\n",
       "3  SHSE.600085_201904      1  29.560\n",
       "4  SHSE.600085_201905      1  31.514"
      ]
     },
     "execution_count": 56,
     "metadata": {},
     "output_type": "execute_result"
    }
   ],
   "source": [
    "results.head()"
   ]
  },
  {
   "cell_type": "code",
   "execution_count": 57,
   "metadata": {},
   "outputs": [],
   "source": [
    "import copy"
   ]
  },
  {
   "cell_type": "code",
   "execution_count": 58,
   "metadata": {},
   "outputs": [],
   "source": [
    "dataset = copy.deepcopy(results)"
   ]
  },
  {
   "cell_type": "code",
   "execution_count": 59,
   "metadata": {},
   "outputs": [
    {
     "data": {
      "text/plain": [
       "11363"
      ]
     },
     "execution_count": 59,
     "metadata": {},
     "output_type": "execute_result"
    }
   ],
   "source": [
    "len(dataset)"
   ]
  },
  {
   "cell_type": "code",
   "execution_count": 60,
   "metadata": {},
   "outputs": [],
   "source": [
    "def ma_with_exp2(test_input_price, input_price, trade_company, trade_date_datetime):\n",
    "    df = test_input_price[trade_company]\n",
    "    lower_index = 0\n",
    "    for index in range(0, df.shape[0]):\n",
    "        if(df[\"date\"][index].year == trade_date_datetime.year)\\\n",
    "        and(df[\"date\"][index].month <= trade_date_datetime.month):\n",
    "            lower_index = index\n",
    "            \n",
    "    if(lower_index == 0):\n",
    "        output = ma_with_exp(input_price, trade_company,trade_date_datetime)\n",
    "    else:\n",
    "        inputs = {\n",
    "            'open': df[\"open\"].iloc[:lower_index],\n",
    "            'high': df[\"high\"].iloc[:lower_index],\n",
    "            'low':  df[\"low\"].iloc[:lower_index],\n",
    "            'close': df[\"close\"].iloc[:lower_index],\n",
    "            'volume': df[\"volume\"].iloc[:lower_index]\n",
    "        }\n",
    "        # uses close prices (default)\n",
    "        output = abstract.EMA(inputs, 5)\n",
    "        output = output[-1]\n",
    "    return output"
   ]
  },
  {
   "cell_type": "code",
   "execution_count": 61,
   "metadata": {},
   "outputs": [
    {
     "name": "stdout",
     "output_type": "stream",
     "text": [
      "0 2020-05-25 15:38:07.861866\n",
      "1000 2020-05-25 15:38:14.190479\n",
      "2000 2020-05-25 15:38:20.504395\n",
      "3000 2020-05-25 15:38:26.696523\n",
      "4000 2020-05-25 15:38:32.908268\n",
      "5000 2020-05-25 15:38:39.524817\n",
      "6000 2020-05-25 15:38:45.783493\n",
      "7000 2020-05-25 15:38:52.197952\n",
      "8000 2020-05-25 15:38:58.587164\n",
      "9000 2020-05-25 15:39:04.729032\n",
      "10000 2020-05-25 15:39:11.027432\n",
      "11000 2020-05-25 15:39:17.284000\n"
     ]
    }
   ],
   "source": [
    "temp = []\n",
    "for i in range(0, dataset.shape[0]):\n",
    "    if(i%1000==0):\n",
    "        print(i, datetime.datetime.now())\n",
    "    trade_company = dataset.iloc[i][0].split(\"_\")[0]\n",
    "    trade_date    = dataset.iloc[i][0].split(\"_\")[1]\n",
    "    trade_date_datetime = datetime.date(int(trade_date[:4]), int(trade_date[4:]), 1) - datetime.timedelta(days=1)\n",
    "    temp.append(ma_with_exp2(test_input_price, input_price, trade_company, trade_date_datetime))\n",
    "#     print(i, trade_company, trade_date, trade_date_datetime)"
   ]
  },
  {
   "cell_type": "code",
   "execution_count": 62,
   "metadata": {},
   "outputs": [
    {
     "data": {
      "text/plain": [
       "11363"
      ]
     },
     "execution_count": 62,
     "metadata": {},
     "output_type": "execute_result"
    }
   ],
   "source": [
    "len(temp)"
   ]
  },
  {
   "cell_type": "code",
   "execution_count": 63,
   "metadata": {},
   "outputs": [],
   "source": [
    "pd.DataFrame(temp, columns=[\"ma_with_exp\"]).head()\n",
    "temp = pd.DataFrame(temp, columns=[\"ma_with_exp\"])"
   ]
  },
  {
   "cell_type": "code",
   "execution_count": 64,
   "metadata": {},
   "outputs": [
    {
     "data": {
      "text/plain": [
       "(11363, 3)"
      ]
     },
     "execution_count": 64,
     "metadata": {},
     "output_type": "execute_result"
    }
   ],
   "source": [
    "dataset.shape"
   ]
  },
  {
   "cell_type": "code",
   "execution_count": 65,
   "metadata": {},
   "outputs": [
    {
     "data": {
      "text/html": [
       "<div>\n",
       "<style scoped>\n",
       "    .dataframe tbody tr th:only-of-type {\n",
       "        vertical-align: middle;\n",
       "    }\n",
       "\n",
       "    .dataframe tbody tr th {\n",
       "        vertical-align: top;\n",
       "    }\n",
       "\n",
       "    .dataframe thead th {\n",
       "        text-align: right;\n",
       "    }\n",
       "</style>\n",
       "<table border=\"1\" class=\"dataframe\">\n",
       "  <thead>\n",
       "    <tr style=\"text-align: right;\">\n",
       "      <th></th>\n",
       "      <th>id</th>\n",
       "      <th>label</th>\n",
       "      <th>ma</th>\n",
       "      <th>ma_with_exp</th>\n",
       "    </tr>\n",
       "  </thead>\n",
       "  <tbody>\n",
       "    <tr>\n",
       "      <th>0</th>\n",
       "      <td>SHSE.600085_201901</td>\n",
       "      <td>1</td>\n",
       "      <td>27.124</td>\n",
       "      <td>27.301295</td>\n",
       "    </tr>\n",
       "    <tr>\n",
       "      <th>1</th>\n",
       "      <td>SHSE.600085_201902</td>\n",
       "      <td>1</td>\n",
       "      <td>26.624</td>\n",
       "      <td>26.610847</td>\n",
       "    </tr>\n",
       "    <tr>\n",
       "      <th>2</th>\n",
       "      <td>SHSE.600085_201903</td>\n",
       "      <td>1</td>\n",
       "      <td>28.890</td>\n",
       "      <td>29.030110</td>\n",
       "    </tr>\n",
       "    <tr>\n",
       "      <th>3</th>\n",
       "      <td>SHSE.600085_201904</td>\n",
       "      <td>1</td>\n",
       "      <td>29.560</td>\n",
       "      <td>29.582097</td>\n",
       "    </tr>\n",
       "    <tr>\n",
       "      <th>4</th>\n",
       "      <td>SHSE.600085_201905</td>\n",
       "      <td>1</td>\n",
       "      <td>31.514</td>\n",
       "      <td>31.423752</td>\n",
       "    </tr>\n",
       "  </tbody>\n",
       "</table>\n",
       "</div>"
      ],
      "text/plain": [
       "                   id  label      ma  ma_with_exp\n",
       "0  SHSE.600085_201901      1  27.124    27.301295\n",
       "1  SHSE.600085_201902      1  26.624    26.610847\n",
       "2  SHSE.600085_201903      1  28.890    29.030110\n",
       "3  SHSE.600085_201904      1  29.560    29.582097\n",
       "4  SHSE.600085_201905      1  31.514    31.423752"
      ]
     },
     "execution_count": 65,
     "metadata": {},
     "output_type": "execute_result"
    }
   ],
   "source": [
    "result = pd.concat([dataset, pd.DataFrame(temp).reindex(dataset.index)], axis=1)\n",
    "result.head()"
   ]
  },
  {
   "cell_type": "code",
   "execution_count": 66,
   "metadata": {},
   "outputs": [],
   "source": [
    "result.to_excel(\"test_output.xlsx\", index = False)  "
   ]
  },
  {
   "cell_type": "code",
   "execution_count": 67,
   "metadata": {},
   "outputs": [],
   "source": [
    "test_results = pd.read_excel(\"test_output.xlsx\", sheet_name = \"Sheet1\")"
   ]
  },
  {
   "cell_type": "code",
   "execution_count": 68,
   "metadata": {},
   "outputs": [
    {
     "data": {
      "text/html": [
       "<div>\n",
       "<style scoped>\n",
       "    .dataframe tbody tr th:only-of-type {\n",
       "        vertical-align: middle;\n",
       "    }\n",
       "\n",
       "    .dataframe tbody tr th {\n",
       "        vertical-align: top;\n",
       "    }\n",
       "\n",
       "    .dataframe thead th {\n",
       "        text-align: right;\n",
       "    }\n",
       "</style>\n",
       "<table border=\"1\" class=\"dataframe\">\n",
       "  <thead>\n",
       "    <tr style=\"text-align: right;\">\n",
       "      <th></th>\n",
       "      <th>id</th>\n",
       "      <th>label</th>\n",
       "      <th>ma</th>\n",
       "      <th>ma_with_exp</th>\n",
       "    </tr>\n",
       "  </thead>\n",
       "  <tbody>\n",
       "    <tr>\n",
       "      <th>0</th>\n",
       "      <td>SHSE.600085_201901</td>\n",
       "      <td>1</td>\n",
       "      <td>27.124</td>\n",
       "      <td>27.301295</td>\n",
       "    </tr>\n",
       "    <tr>\n",
       "      <th>1</th>\n",
       "      <td>SHSE.600085_201902</td>\n",
       "      <td>1</td>\n",
       "      <td>26.624</td>\n",
       "      <td>26.610847</td>\n",
       "    </tr>\n",
       "    <tr>\n",
       "      <th>2</th>\n",
       "      <td>SHSE.600085_201903</td>\n",
       "      <td>1</td>\n",
       "      <td>28.890</td>\n",
       "      <td>29.030110</td>\n",
       "    </tr>\n",
       "    <tr>\n",
       "      <th>3</th>\n",
       "      <td>SHSE.600085_201904</td>\n",
       "      <td>1</td>\n",
       "      <td>29.560</td>\n",
       "      <td>29.582097</td>\n",
       "    </tr>\n",
       "    <tr>\n",
       "      <th>4</th>\n",
       "      <td>SHSE.600085_201905</td>\n",
       "      <td>1</td>\n",
       "      <td>31.514</td>\n",
       "      <td>31.423752</td>\n",
       "    </tr>\n",
       "  </tbody>\n",
       "</table>\n",
       "</div>"
      ],
      "text/plain": [
       "                   id  label      ma  ma_with_exp\n",
       "0  SHSE.600085_201901      1  27.124    27.301295\n",
       "1  SHSE.600085_201902      1  26.624    26.610847\n",
       "2  SHSE.600085_201903      1  28.890    29.030110\n",
       "3  SHSE.600085_201904      1  29.560    29.582097\n",
       "4  SHSE.600085_201905      1  31.514    31.423752"
      ]
     },
     "execution_count": 68,
     "metadata": {},
     "output_type": "execute_result"
    }
   ],
   "source": [
    "test_results.head()"
   ]
  },
  {
   "cell_type": "code",
   "execution_count": 69,
   "metadata": {},
   "outputs": [
    {
     "data": {
      "text/plain": [
       "id             False\n",
       "label          False\n",
       "ma              True\n",
       "ma_with_exp     True\n",
       "dtype: bool"
      ]
     },
     "execution_count": 69,
     "metadata": {},
     "output_type": "execute_result"
    }
   ],
   "source": [
    "test_results.isnull().any()"
   ]
  },
  {
   "cell_type": "code",
   "execution_count": 70,
   "metadata": {},
   "outputs": [
    {
     "data": {
      "text/plain": [
       "2"
      ]
     },
     "execution_count": 70,
     "metadata": {},
     "output_type": "execute_result"
    }
   ],
   "source": [
    "test_results.isnull().any().sum()"
   ]
  },
  {
   "cell_type": "code",
   "execution_count": 71,
   "metadata": {},
   "outputs": [
    {
     "data": {
      "text/html": [
       "<div>\n",
       "<style scoped>\n",
       "    .dataframe tbody tr th:only-of-type {\n",
       "        vertical-align: middle;\n",
       "    }\n",
       "\n",
       "    .dataframe tbody tr th {\n",
       "        vertical-align: top;\n",
       "    }\n",
       "\n",
       "    .dataframe thead th {\n",
       "        text-align: right;\n",
       "    }\n",
       "</style>\n",
       "<table border=\"1\" class=\"dataframe\">\n",
       "  <thead>\n",
       "    <tr style=\"text-align: right;\">\n",
       "      <th></th>\n",
       "      <th>id</th>\n",
       "      <th>label</th>\n",
       "      <th>ma</th>\n",
       "      <th>ma_with_exp</th>\n",
       "    </tr>\n",
       "  </thead>\n",
       "  <tbody>\n",
       "    <tr>\n",
       "      <th>10992</th>\n",
       "      <td>SZSE.002946_201902</td>\n",
       "      <td>0</td>\n",
       "      <td>NaN</td>\n",
       "      <td>NaN</td>\n",
       "    </tr>\n",
       "  </tbody>\n",
       "</table>\n",
       "</div>"
      ],
      "text/plain": [
       "                       id  label  ma  ma_with_exp\n",
       "10992  SZSE.002946_201902      0 NaN          NaN"
      ]
     },
     "execution_count": 71,
     "metadata": {},
     "output_type": "execute_result"
    }
   ],
   "source": [
    "test_results[test_results[\"ma\"].isnull()]"
   ]
  },
  {
   "cell_type": "code",
   "execution_count": 72,
   "metadata": {},
   "outputs": [
    {
     "data": {
      "text/plain": [
       "10992    SZSE.002946_201902\n",
       "Name: id, dtype: object"
      ]
     },
     "execution_count": 72,
     "metadata": {},
     "output_type": "execute_result"
    }
   ],
   "source": [
    "test_results[test_results[\"ma\"].isnull()].id"
   ]
  },
  {
   "cell_type": "code",
   "execution_count": 73,
   "metadata": {},
   "outputs": [
    {
     "data": {
      "text/html": [
       "<div>\n",
       "<style scoped>\n",
       "    .dataframe tbody tr th:only-of-type {\n",
       "        vertical-align: middle;\n",
       "    }\n",
       "\n",
       "    .dataframe tbody tr th {\n",
       "        vertical-align: top;\n",
       "    }\n",
       "\n",
       "    .dataframe thead th {\n",
       "        text-align: right;\n",
       "    }\n",
       "</style>\n",
       "<table border=\"1\" class=\"dataframe\">\n",
       "  <thead>\n",
       "    <tr style=\"text-align: right;\">\n",
       "      <th></th>\n",
       "      <th>Unnamed: 0</th>\n",
       "      <th>date</th>\n",
       "      <th>open</th>\n",
       "      <th>high</th>\n",
       "      <th>low</th>\n",
       "      <th>close</th>\n",
       "      <th>volume</th>\n",
       "    </tr>\n",
       "  </thead>\n",
       "  <tbody>\n",
       "    <tr>\n",
       "      <th>0</th>\n",
       "      <td>0</td>\n",
       "      <td>2019-01-25</td>\n",
       "      <td>6.54</td>\n",
       "      <td>7.85</td>\n",
       "      <td>6.54</td>\n",
       "      <td>7.85</td>\n",
       "      <td>103502</td>\n",
       "    </tr>\n",
       "    <tr>\n",
       "      <th>1</th>\n",
       "      <td>1</td>\n",
       "      <td>2019-01-28</td>\n",
       "      <td>8.64</td>\n",
       "      <td>8.64</td>\n",
       "      <td>8.64</td>\n",
       "      <td>8.64</td>\n",
       "      <td>65762</td>\n",
       "    </tr>\n",
       "    <tr>\n",
       "      <th>2</th>\n",
       "      <td>2</td>\n",
       "      <td>2019-01-29</td>\n",
       "      <td>9.50</td>\n",
       "      <td>9.50</td>\n",
       "      <td>9.50</td>\n",
       "      <td>9.50</td>\n",
       "      <td>230822</td>\n",
       "    </tr>\n",
       "    <tr>\n",
       "      <th>3</th>\n",
       "      <td>3</td>\n",
       "      <td>2019-01-30</td>\n",
       "      <td>10.45</td>\n",
       "      <td>10.45</td>\n",
       "      <td>10.45</td>\n",
       "      <td>10.45</td>\n",
       "      <td>304355</td>\n",
       "    </tr>\n",
       "    <tr>\n",
       "      <th>4</th>\n",
       "      <td>4</td>\n",
       "      <td>2019-01-31</td>\n",
       "      <td>11.50</td>\n",
       "      <td>11.50</td>\n",
       "      <td>11.50</td>\n",
       "      <td>11.50</td>\n",
       "      <td>640811</td>\n",
       "    </tr>\n",
       "    <tr>\n",
       "      <th>...</th>\n",
       "      <td>...</td>\n",
       "      <td>...</td>\n",
       "      <td>...</td>\n",
       "      <td>...</td>\n",
       "      <td>...</td>\n",
       "      <td>...</td>\n",
       "      <td>...</td>\n",
       "    </tr>\n",
       "    <tr>\n",
       "      <th>280</th>\n",
       "      <td>280</td>\n",
       "      <td>2020-03-25</td>\n",
       "      <td>10.70</td>\n",
       "      <td>11.57</td>\n",
       "      <td>10.50</td>\n",
       "      <td>11.22</td>\n",
       "      <td>10236404</td>\n",
       "    </tr>\n",
       "    <tr>\n",
       "      <th>281</th>\n",
       "      <td>281</td>\n",
       "      <td>2020-03-26</td>\n",
       "      <td>11.00</td>\n",
       "      <td>12.00</td>\n",
       "      <td>10.98</td>\n",
       "      <td>11.49</td>\n",
       "      <td>10871703</td>\n",
       "    </tr>\n",
       "    <tr>\n",
       "      <th>282</th>\n",
       "      <td>282</td>\n",
       "      <td>2020-03-27</td>\n",
       "      <td>11.48</td>\n",
       "      <td>11.86</td>\n",
       "      <td>11.48</td>\n",
       "      <td>11.57</td>\n",
       "      <td>7054557</td>\n",
       "    </tr>\n",
       "    <tr>\n",
       "      <th>283</th>\n",
       "      <td>283</td>\n",
       "      <td>2020-03-30</td>\n",
       "      <td>11.62</td>\n",
       "      <td>12.22</td>\n",
       "      <td>11.56</td>\n",
       "      <td>11.90</td>\n",
       "      <td>8474864</td>\n",
       "    </tr>\n",
       "    <tr>\n",
       "      <th>284</th>\n",
       "      <td>284</td>\n",
       "      <td>2020-03-31</td>\n",
       "      <td>11.89</td>\n",
       "      <td>12.87</td>\n",
       "      <td>11.76</td>\n",
       "      <td>12.75</td>\n",
       "      <td>14500645</td>\n",
       "    </tr>\n",
       "  </tbody>\n",
       "</table>\n",
       "<p>285 rows × 7 columns</p>\n",
       "</div>"
      ],
      "text/plain": [
       "     Unnamed: 0       date   open   high    low  close    volume\n",
       "0             0 2019-01-25   6.54   7.85   6.54   7.85    103502\n",
       "1             1 2019-01-28   8.64   8.64   8.64   8.64     65762\n",
       "2             2 2019-01-29   9.50   9.50   9.50   9.50    230822\n",
       "3             3 2019-01-30  10.45  10.45  10.45  10.45    304355\n",
       "4             4 2019-01-31  11.50  11.50  11.50  11.50    640811\n",
       "..          ...        ...    ...    ...    ...    ...       ...\n",
       "280         280 2020-03-25  10.70  11.57  10.50  11.22  10236404\n",
       "281         281 2020-03-26  11.00  12.00  10.98  11.49  10871703\n",
       "282         282 2020-03-27  11.48  11.86  11.48  11.57   7054557\n",
       "283         283 2020-03-30  11.62  12.22  11.56  11.90   8474864\n",
       "284         284 2020-03-31  11.89  12.87  11.76  12.75  14500645\n",
       "\n",
       "[285 rows x 7 columns]"
      ]
     },
     "execution_count": 73,
     "metadata": {},
     "output_type": "execute_result"
    }
   ],
   "source": [
    "test_input_price[\"SZSE.002946\"]"
   ]
  },
  {
   "cell_type": "code",
   "execution_count": 74,
   "metadata": {},
   "outputs": [],
   "source": [
    "test_results = test_results.dropna(axis = 0)"
   ]
  },
  {
   "cell_type": "code",
   "execution_count": 75,
   "metadata": {},
   "outputs": [
    {
     "data": {
      "text/html": [
       "<div>\n",
       "<style scoped>\n",
       "    .dataframe tbody tr th:only-of-type {\n",
       "        vertical-align: middle;\n",
       "    }\n",
       "\n",
       "    .dataframe tbody tr th {\n",
       "        vertical-align: top;\n",
       "    }\n",
       "\n",
       "    .dataframe thead th {\n",
       "        text-align: right;\n",
       "    }\n",
       "</style>\n",
       "<table border=\"1\" class=\"dataframe\">\n",
       "  <thead>\n",
       "    <tr style=\"text-align: right;\">\n",
       "      <th></th>\n",
       "      <th>ma</th>\n",
       "      <th>ma_with_exp</th>\n",
       "    </tr>\n",
       "  </thead>\n",
       "  <tbody>\n",
       "    <tr>\n",
       "      <th>0</th>\n",
       "      <td>27.124</td>\n",
       "      <td>27.301295</td>\n",
       "    </tr>\n",
       "    <tr>\n",
       "      <th>1</th>\n",
       "      <td>26.624</td>\n",
       "      <td>26.610847</td>\n",
       "    </tr>\n",
       "    <tr>\n",
       "      <th>2</th>\n",
       "      <td>28.890</td>\n",
       "      <td>29.030110</td>\n",
       "    </tr>\n",
       "    <tr>\n",
       "      <th>3</th>\n",
       "      <td>29.560</td>\n",
       "      <td>29.582097</td>\n",
       "    </tr>\n",
       "    <tr>\n",
       "      <th>4</th>\n",
       "      <td>31.514</td>\n",
       "      <td>31.423752</td>\n",
       "    </tr>\n",
       "  </tbody>\n",
       "</table>\n",
       "</div>"
      ],
      "text/plain": [
       "       ma  ma_with_exp\n",
       "0  27.124    27.301295\n",
       "1  26.624    26.610847\n",
       "2  28.890    29.030110\n",
       "3  29.560    29.582097\n",
       "4  31.514    31.423752"
      ]
     },
     "execution_count": 75,
     "metadata": {},
     "output_type": "execute_result"
    }
   ],
   "source": [
    "test_results.iloc[:, 2:4].head()"
   ]
  },
  {
   "cell_type": "code",
   "execution_count": 76,
   "metadata": {},
   "outputs": [],
   "source": [
    "test_X = test_results.iloc[:, 2:4]"
   ]
  },
  {
   "cell_type": "code",
   "execution_count": 77,
   "metadata": {},
   "outputs": [
    {
     "data": {
      "text/html": [
       "<div>\n",
       "<style scoped>\n",
       "    .dataframe tbody tr th:only-of-type {\n",
       "        vertical-align: middle;\n",
       "    }\n",
       "\n",
       "    .dataframe tbody tr th {\n",
       "        vertical-align: top;\n",
       "    }\n",
       "\n",
       "    .dataframe thead th {\n",
       "        text-align: right;\n",
       "    }\n",
       "</style>\n",
       "<table border=\"1\" class=\"dataframe\">\n",
       "  <thead>\n",
       "    <tr style=\"text-align: right;\">\n",
       "      <th></th>\n",
       "      <th>ma</th>\n",
       "      <th>ma_with_exp</th>\n",
       "    </tr>\n",
       "  </thead>\n",
       "  <tbody>\n",
       "    <tr>\n",
       "      <th>0</th>\n",
       "      <td>27.124000</td>\n",
       "      <td>27.301295</td>\n",
       "    </tr>\n",
       "    <tr>\n",
       "      <th>1</th>\n",
       "      <td>26.624000</td>\n",
       "      <td>26.610847</td>\n",
       "    </tr>\n",
       "    <tr>\n",
       "      <th>2</th>\n",
       "      <td>28.890000</td>\n",
       "      <td>29.030110</td>\n",
       "    </tr>\n",
       "    <tr>\n",
       "      <th>3</th>\n",
       "      <td>29.560000</td>\n",
       "      <td>29.582097</td>\n",
       "    </tr>\n",
       "    <tr>\n",
       "      <th>4</th>\n",
       "      <td>31.514000</td>\n",
       "      <td>31.423752</td>\n",
       "    </tr>\n",
       "    <tr>\n",
       "      <th>...</th>\n",
       "      <td>...</td>\n",
       "      <td>...</td>\n",
       "    </tr>\n",
       "    <tr>\n",
       "      <th>11358</th>\n",
       "      <td>86.210001</td>\n",
       "      <td>85.900316</td>\n",
       "    </tr>\n",
       "    <tr>\n",
       "      <th>11359</th>\n",
       "      <td>77.744000</td>\n",
       "      <td>78.256732</td>\n",
       "    </tr>\n",
       "    <tr>\n",
       "      <th>11360</th>\n",
       "      <td>70.966000</td>\n",
       "      <td>71.456738</td>\n",
       "    </tr>\n",
       "    <tr>\n",
       "      <th>11361</th>\n",
       "      <td>81.862001</td>\n",
       "      <td>82.689670</td>\n",
       "    </tr>\n",
       "    <tr>\n",
       "      <th>11362</th>\n",
       "      <td>81.792000</td>\n",
       "      <td>82.155184</td>\n",
       "    </tr>\n",
       "  </tbody>\n",
       "</table>\n",
       "<p>11362 rows × 2 columns</p>\n",
       "</div>"
      ],
      "text/plain": [
       "              ma  ma_with_exp\n",
       "0      27.124000    27.301295\n",
       "1      26.624000    26.610847\n",
       "2      28.890000    29.030110\n",
       "3      29.560000    29.582097\n",
       "4      31.514000    31.423752\n",
       "...          ...          ...\n",
       "11358  86.210001    85.900316\n",
       "11359  77.744000    78.256732\n",
       "11360  70.966000    71.456738\n",
       "11361  81.862001    82.689670\n",
       "11362  81.792000    82.155184\n",
       "\n",
       "[11362 rows x 2 columns]"
      ]
     },
     "execution_count": 77,
     "metadata": {},
     "output_type": "execute_result"
    }
   ],
   "source": [
    "test_X"
   ]
  },
  {
   "cell_type": "code",
   "execution_count": 78,
   "metadata": {},
   "outputs": [
    {
     "data": {
      "text/plain": [
       "array([1, 1, 1, ..., 1, 1, 1], dtype=int64)"
      ]
     },
     "execution_count": 78,
     "metadata": {},
     "output_type": "execute_result"
    }
   ],
   "source": [
    "clf.predict(test_X)"
   ]
  },
  {
   "cell_type": "code",
   "execution_count": 79,
   "metadata": {},
   "outputs": [],
   "source": [
    "pd.DataFrame(clf.predict(test_X), columns= [\"label\"]).to_excel(\"prediction.xlsx\")  "
   ]
  },
  {
   "cell_type": "markdown",
   "metadata": {},
   "source": [
    "##### END: Caculating the five-day average close price of SHSE.600085 at 2015-01-31"
   ]
  },
  {
   "cell_type": "code",
   "execution_count": null,
   "metadata": {},
   "outputs": [],
   "source": []
  }
 ],
 "metadata": {
  "kernelspec": {
   "display_name": "Python 3",
   "language": "python",
   "name": "python3"
  },
  "language_info": {
   "codemirror_mode": {
    "name": "ipython",
    "version": 3
   },
   "file_extension": ".py",
   "mimetype": "text/x-python",
   "name": "python",
   "nbconvert_exporter": "python",
   "pygments_lexer": "ipython3",
   "version": "3.6.10"
  }
 },
 "nbformat": 4,
 "nbformat_minor": 4
}
